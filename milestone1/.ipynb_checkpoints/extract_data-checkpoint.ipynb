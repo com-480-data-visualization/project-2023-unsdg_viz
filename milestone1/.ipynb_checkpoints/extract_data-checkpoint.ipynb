{
 "cells": [
  {
   "cell_type": "code",
   "execution_count": 1,
   "id": "909b10ca-9c6e-4d7a-9915-38e7d3a53bca",
   "metadata": {},
   "outputs": [],
   "source": [
    "import pandas as pd\n",
    "import numpy as np\n",
    "import matplotlib.pyplot as plt\n",
    "import os"
   ]
  },
  {
   "cell_type": "code",
   "execution_count": 233,
   "id": "4407b221-9eeb-4ddb-8714-6b01fbeb066c",
   "metadata": {},
   "outputs": [],
   "source": [
    "import pickle\n",
    "\n",
    "# Load data from file\n",
    "with open('data_all_outer.pkl', 'rb') as f:\n",
    "    data = pickle.load(f)"
   ]
  },
  {
   "cell_type": "markdown",
   "id": "ef9ba974-3c4a-4f83-b7a5-64d227498a65",
   "metadata": {},
   "source": [
    "Additional data from https://ourworldindata.org/grapher/co2-per-capita-vs-renewable-electricity?tab=table"
   ]
  },
  {
   "cell_type": "code",
   "execution_count": 234,
   "id": "ffdc8f38-94d6-40a2-9146-cfa16ba107f5",
   "metadata": {},
   "outputs": [],
   "source": [
    "# get the absolute path of the current working directory\n",
    "cwd = os.path.abspath(os.getcwd())\n",
    "\n",
    "# go up one level in the directory tree\n",
    "parent_dir = os.path.abspath(os.path.join(cwd, os.pardir))\n",
    "\n",
    "# go into the 'data' directory\n",
    "data_dir = os.path.join(parent_dir, 'data')\n",
    "datafolder = data_dir + '\\\\' #'./data/' \n",
    "co2 = pd.read_csv(datafolder + 'annual-co-emissions-by-region.csv')\n",
    "renewable_energy = pd.read_csv(datafolder + 'co2-per-capita-vs-renewable-electricity.csv')"
   ]
  },
  {
   "cell_type": "code",
   "execution_count": 236,
   "id": "c781dfe9-92d7-4a6a-ba30-d5ed73677707",
   "metadata": {},
   "outputs": [],
   "source": [
    "data = data.merge(renewable_energy[['Entity', 'Renewables (% electricity)', 'Year']], \n",
    "                              left_on = ['country', 'dt_year'], right_on = ['Entity', 'Year'], how = 'left')"
   ]
  },
  {
   "cell_type": "code",
   "execution_count": 237,
   "id": "30a5df40-d2ba-4799-930e-468a6a9587cf",
   "metadata": {},
   "outputs": [],
   "source": [
    "# Only keep countries that have info about CO2\n",
    "data_viz = data[data.country.isin(co2.Entity)]"
   ]
  },
  {
   "cell_type": "code",
   "execution_count": 238,
   "id": "67c90a85-48e0-4484-96ef-8152787f8dd6",
   "metadata": {},
   "outputs": [],
   "source": [
    "# Extract interesting feature based on Milestone 1\n",
    "data_viz = data_viz[['dt_year', 'country','co2emissions_from_fuel_combustion_in_millions_of_tonnes', \n",
    "      'total_government_revenue_proportion_of_gdp_perc',  'fdi_inflows_millionusd',\n",
    "      'annual_growth_rate_perc',\n",
    "      'Annual CO₂ emissions (zero filled)',\n",
    "     'GDP (constant 2015 US$)', 'mortality_rate_perc',\n",
    "         'PM2.5 air pollution, population exposed to levels exceeding WHO guideline value (% of total)',\n",
    "         'Literacy rate, adult total (% of people ages 15 and above)', 'Renewables (% electricity)']]"
   ]
  },
  {
   "cell_type": "code",
   "execution_count": 239,
   "id": "3bcc7c2b-6afb-4872-b3f7-83471f00fe73",
   "metadata": {},
   "outputs": [],
   "source": [
    "# Interpolate between measurement\n",
    "data_viz = data_viz.groupby('country').apply(pd.DataFrame.interpolate)"
   ]
  },
  {
   "cell_type": "code",
   "execution_count": 240,
   "id": "39877400-d10b-44e1-995c-13e5f1497bb3",
   "metadata": {},
   "outputs": [],
   "source": [
    "# Extract interesting feature based on Milestone 1\n",
    "rename_dict = {'dt_year': 'Year', 'co2emissions_from_fuel_combustion_in_millions_of_tonnes': 'CO2_fuel_combustion', \n",
    "      'total_government_revenue_proportion_of_gdp_perc':'Revenue',  'fdi_inflows_millionusd':'FDI',\n",
    "      'annual_growth_rate_perc':'Growth_rate',\n",
    "      'Annual CO₂ emissions (zero filled)':'CO2_emission',\n",
    "     'GDP (constant 2015 US$)':'GDP', 'mortality_rate_perc':'Mortality_rate',\n",
    "         'PM2.5 air pollution, population exposed to levels exceeding WHO guideline value (% of total)':'Air pollution',\n",
    "         'Literacy rate, adult total (% of people ages 15 and above)':'Literacy rate', \n",
    "              'Renewables (% electricity)': 'Renewable_energy'}"
   ]
  },
  {
   "cell_type": "code",
   "execution_count": 241,
   "id": "0a8134a1-ac20-4f85-8b32-eb00b9d55b7a",
   "metadata": {},
   "outputs": [],
   "source": [
    "data_viz = data_viz.rename(columns=rename_dict)"
   ]
  },
  {
   "cell_type": "code",
   "execution_count": 243,
   "id": "93318cd8-6ce8-4e9a-a88b-bb8350d4f88d",
   "metadata": {},
   "outputs": [],
   "source": [
    "data_viz.to_pickle(\"./data_viz.pkl\")"
   ]
  },
  {
   "cell_type": "code",
   "execution_count": 244,
   "id": "cac65e3c-d508-49b1-a18a-744bd2550c66",
   "metadata": {},
   "outputs": [],
   "source": [
    "# Calculate number of NaN\n",
    "def NaN_percentage(df):\n",
    "    '''\n",
    "    Returns a df with columnname and their respective number of NaN and what percentage this corresponds to.\n",
    "    Args:\n",
    "        df = movies, characters\n",
    "    '''\n",
    "    \n",
    "    n_NaN = []\n",
    "    perc_NaN = []\n",
    "    length = len(df)\n",
    "\n",
    "    for column in df:\n",
    "        i_nan = df[column].isna().sum()\n",
    "        perc_nan = i_nan/ length\n",
    "        n_NaN.append(i_nan)\n",
    "        perc_NaN.append(perc_nan)\n",
    "\n",
    "    # Create df with results\n",
    "    index_df = df.columns.to_list()\n",
    "    df_NaN = pd.DataFrame({'number of NaN':n_NaN, 'percentage of NaN':perc_NaN}, index= index_df )\n",
    "    return df_NaN"
   ]
  },
  {
   "cell_type": "markdown",
   "id": "f042cb77-022a-4248-84d2-a7ef52c44845",
   "metadata": {},
   "source": [
    "***\n",
    "#### Correlation matrix - heatmap\n",
    "Availability of data varies with time -> divide data into 2002 - 2005, 2005-2010, 2010-2015, 2015-2021. <br>\n",
    "Keep features that have a NaN perc <= 30% <br>\n",
    "remove all records that contain NaN"
   ]
  },
  {
   "cell_type": "code",
   "execution_count": 245,
   "id": "0df3c281-b68d-4c51-9f8a-2f89bfd228e9",
   "metadata": {},
   "outputs": [],
   "source": [
    "import plotly.io as pio"
   ]
  },
  {
   "cell_type": "code",
   "execution_count": 246,
   "id": "adc3503a-24d4-4796-8fa5-4893fd27c780",
   "metadata": {},
   "outputs": [],
   "source": [
    "corr_viz1 = data_viz[(data_viz.Year<2005)]\n",
    "corr_viz2 = data_viz[(data_viz.Year>=2005)&(data_viz.Year<2010)]\n",
    "corr_viz3 = data_viz[(data_viz.Year>=2010)&(data_viz.Year<2015)]\n",
    "corr_viz4 = data_viz[(data_viz.Year>=2015)]"
   ]
  },
  {
   "cell_type": "code",
   "execution_count": 248,
   "id": "d6b301ee-7ed0-461d-8378-7c3222ddb532",
   "metadata": {},
   "outputs": [
    {
     "data": {
      "text/html": [
       "<div>\n",
       "<style scoped>\n",
       "    .dataframe tbody tr th:only-of-type {\n",
       "        vertical-align: middle;\n",
       "    }\n",
       "\n",
       "    .dataframe tbody tr th {\n",
       "        vertical-align: top;\n",
       "    }\n",
       "\n",
       "    .dataframe thead th {\n",
       "        text-align: right;\n",
       "    }\n",
       "</style>\n",
       "<table border=\"1\" class=\"dataframe\">\n",
       "  <thead>\n",
       "    <tr style=\"text-align: right;\">\n",
       "      <th></th>\n",
       "      <th>number of NaN</th>\n",
       "      <th>percentage of NaN</th>\n",
       "    </tr>\n",
       "  </thead>\n",
       "  <tbody>\n",
       "    <tr>\n",
       "      <th>Year</th>\n",
       "      <td>0</td>\n",
       "      <td>0.000000</td>\n",
       "    </tr>\n",
       "    <tr>\n",
       "      <th>country</th>\n",
       "      <td>0</td>\n",
       "      <td>0.000000</td>\n",
       "    </tr>\n",
       "    <tr>\n",
       "      <th>CO2_fuel_combustion</th>\n",
       "      <td>231</td>\n",
       "      <td>0.385000</td>\n",
       "    </tr>\n",
       "    <tr>\n",
       "      <th>Revenue</th>\n",
       "      <td>261</td>\n",
       "      <td>0.435000</td>\n",
       "    </tr>\n",
       "    <tr>\n",
       "      <th>FDI</th>\n",
       "      <td>63</td>\n",
       "      <td>0.105000</td>\n",
       "    </tr>\n",
       "    <tr>\n",
       "      <th>Growth_rate</th>\n",
       "      <td>51</td>\n",
       "      <td>0.085000</td>\n",
       "    </tr>\n",
       "    <tr>\n",
       "      <th>CO2_emission</th>\n",
       "      <td>0</td>\n",
       "      <td>0.000000</td>\n",
       "    </tr>\n",
       "    <tr>\n",
       "      <th>GDP</th>\n",
       "      <td>80</td>\n",
       "      <td>0.133333</td>\n",
       "    </tr>\n",
       "    <tr>\n",
       "      <th>Mortality_rate</th>\n",
       "      <td>600</td>\n",
       "      <td>1.000000</td>\n",
       "    </tr>\n",
       "    <tr>\n",
       "      <th>Air pollution</th>\n",
       "      <td>600</td>\n",
       "      <td>1.000000</td>\n",
       "    </tr>\n",
       "    <tr>\n",
       "      <th>Literacy rate</th>\n",
       "      <td>511</td>\n",
       "      <td>0.851667</td>\n",
       "    </tr>\n",
       "    <tr>\n",
       "      <th>Renewable_energy</th>\n",
       "      <td>57</td>\n",
       "      <td>0.095000</td>\n",
       "    </tr>\n",
       "  </tbody>\n",
       "</table>\n",
       "</div>"
      ],
      "text/plain": [
       "                     number of NaN  percentage of NaN\n",
       "Year                             0           0.000000\n",
       "country                          0           0.000000\n",
       "CO2_fuel_combustion            231           0.385000\n",
       "Revenue                        261           0.435000\n",
       "FDI                             63           0.105000\n",
       "Growth_rate                     51           0.085000\n",
       "CO2_emission                     0           0.000000\n",
       "GDP                             80           0.133333\n",
       "Mortality_rate                 600           1.000000\n",
       "Air pollution                  600           1.000000\n",
       "Literacy rate                  511           0.851667\n",
       "Renewable_energy                57           0.095000"
      ]
     },
     "execution_count": 248,
     "metadata": {},
     "output_type": "execute_result"
    }
   ],
   "source": [
    "NaN_percentage(corr_viz1)"
   ]
  },
  {
   "cell_type": "code",
   "execution_count": 275,
   "id": "fe8db90d-6ae1-4495-ac37-7c0b0d884300",
   "metadata": {},
   "outputs": [
    {
     "data": {
      "application/vnd.plotly.v1+json": {
       "config": {
        "displayModeBar": false,
        "plotlyServerURL": "https://plot.ly"
       },
       "data": [
        {
         "colorscale": [
          [
           0,
           "#3A27AE"
          ],
          [
           0.49,
           "#8DE9F0"
          ],
          [
           0.51,
           "#F4F267"
          ],
          [
           1,
           "#F27762"
          ]
         ],
         "type": "heatmap",
         "x": [
          "Revenue",
          "FDI",
          "Growth_rate",
          "CO2_emission",
          "GDP",
          "Mortality_rate",
          "Air pollution",
          "Renewable_energy"
         ],
         "xgap": 1,
         "y": [
          "Revenue",
          "FDI",
          "Growth_rate",
          "CO2_emission",
          "GDP",
          "Mortality_rate",
          "Air pollution",
          "Renewable_energy"
         ],
         "ygap": 1,
         "z": [
          [
           null,
           null,
           null,
           null,
           null,
           null,
           null,
           null
          ],
          [
           0.053129735040847254,
           null,
           null,
           null,
           null,
           null,
           null,
           null
          ],
          [
           0.0022134001978587406,
           0.07726139383951637,
           null,
           null,
           null,
           null,
           null,
           null
          ],
          [
           -0.01677827445312875,
           0.5786355695760714,
           0.08488843860872045,
           null,
           null,
           null,
           null,
           null
          ],
          [
           0.06335451301297643,
           0.6313719675044197,
           0.07364029473067299,
           0.9375936366876331,
           null,
           null,
           null,
           null
          ],
          [
           -0.03036350356657519,
           -0.268463468869044,
           0.015454987395691188,
           -0.06978286314726567,
           -0.18863892911642371,
           null,
           null,
           null
          ],
          [
           -0.25719467486276604,
           -0.1708720462840437,
           -0.025501035298865944,
           0.018557362874183667,
           -0.06625405572484512,
           0.415266504557917,
           null,
           null
          ],
          [
           -0.06137199097010156,
           -0.0800138482892717,
           0.0468284151476966,
           -0.07663110245175815,
           -0.06586318449928615,
           -0.015529287004847375,
           -0.19894496159055558,
           null
          ]
         ],
         "zmax": 1,
         "zmin": -1
        }
       ],
       "layout": {
        "height": 600,
        "template": {
         "data": {
          "bar": [
           {
            "error_x": {
             "color": "#2a3f5f"
            },
            "error_y": {
             "color": "#2a3f5f"
            },
            "marker": {
             "line": {
              "color": "white",
              "width": 0.5
             },
             "pattern": {
              "fillmode": "overlay",
              "size": 10,
              "solidity": 0.2
             }
            },
            "type": "bar"
           }
          ],
          "barpolar": [
           {
            "marker": {
             "line": {
              "color": "white",
              "width": 0.5
             },
             "pattern": {
              "fillmode": "overlay",
              "size": 10,
              "solidity": 0.2
             }
            },
            "type": "barpolar"
           }
          ],
          "carpet": [
           {
            "aaxis": {
             "endlinecolor": "#2a3f5f",
             "gridcolor": "#C8D4E3",
             "linecolor": "#C8D4E3",
             "minorgridcolor": "#C8D4E3",
             "startlinecolor": "#2a3f5f"
            },
            "baxis": {
             "endlinecolor": "#2a3f5f",
             "gridcolor": "#C8D4E3",
             "linecolor": "#C8D4E3",
             "minorgridcolor": "#C8D4E3",
             "startlinecolor": "#2a3f5f"
            },
            "type": "carpet"
           }
          ],
          "choropleth": [
           {
            "colorbar": {
             "outlinewidth": 0,
             "ticks": ""
            },
            "type": "choropleth"
           }
          ],
          "contour": [
           {
            "colorbar": {
             "outlinewidth": 0,
             "ticks": ""
            },
            "colorscale": [
             [
              0,
              "#0d0887"
             ],
             [
              0.1111111111111111,
              "#46039f"
             ],
             [
              0.2222222222222222,
              "#7201a8"
             ],
             [
              0.3333333333333333,
              "#9c179e"
             ],
             [
              0.4444444444444444,
              "#bd3786"
             ],
             [
              0.5555555555555556,
              "#d8576b"
             ],
             [
              0.6666666666666666,
              "#ed7953"
             ],
             [
              0.7777777777777778,
              "#fb9f3a"
             ],
             [
              0.8888888888888888,
              "#fdca26"
             ],
             [
              1,
              "#f0f921"
             ]
            ],
            "type": "contour"
           }
          ],
          "contourcarpet": [
           {
            "colorbar": {
             "outlinewidth": 0,
             "ticks": ""
            },
            "type": "contourcarpet"
           }
          ],
          "heatmap": [
           {
            "colorbar": {
             "outlinewidth": 0,
             "ticks": ""
            },
            "colorscale": [
             [
              0,
              "#0d0887"
             ],
             [
              0.1111111111111111,
              "#46039f"
             ],
             [
              0.2222222222222222,
              "#7201a8"
             ],
             [
              0.3333333333333333,
              "#9c179e"
             ],
             [
              0.4444444444444444,
              "#bd3786"
             ],
             [
              0.5555555555555556,
              "#d8576b"
             ],
             [
              0.6666666666666666,
              "#ed7953"
             ],
             [
              0.7777777777777778,
              "#fb9f3a"
             ],
             [
              0.8888888888888888,
              "#fdca26"
             ],
             [
              1,
              "#f0f921"
             ]
            ],
            "type": "heatmap"
           }
          ],
          "heatmapgl": [
           {
            "colorbar": {
             "outlinewidth": 0,
             "ticks": ""
            },
            "colorscale": [
             [
              0,
              "#0d0887"
             ],
             [
              0.1111111111111111,
              "#46039f"
             ],
             [
              0.2222222222222222,
              "#7201a8"
             ],
             [
              0.3333333333333333,
              "#9c179e"
             ],
             [
              0.4444444444444444,
              "#bd3786"
             ],
             [
              0.5555555555555556,
              "#d8576b"
             ],
             [
              0.6666666666666666,
              "#ed7953"
             ],
             [
              0.7777777777777778,
              "#fb9f3a"
             ],
             [
              0.8888888888888888,
              "#fdca26"
             ],
             [
              1,
              "#f0f921"
             ]
            ],
            "type": "heatmapgl"
           }
          ],
          "histogram": [
           {
            "marker": {
             "pattern": {
              "fillmode": "overlay",
              "size": 10,
              "solidity": 0.2
             }
            },
            "type": "histogram"
           }
          ],
          "histogram2d": [
           {
            "colorbar": {
             "outlinewidth": 0,
             "ticks": ""
            },
            "colorscale": [
             [
              0,
              "#0d0887"
             ],
             [
              0.1111111111111111,
              "#46039f"
             ],
             [
              0.2222222222222222,
              "#7201a8"
             ],
             [
              0.3333333333333333,
              "#9c179e"
             ],
             [
              0.4444444444444444,
              "#bd3786"
             ],
             [
              0.5555555555555556,
              "#d8576b"
             ],
             [
              0.6666666666666666,
              "#ed7953"
             ],
             [
              0.7777777777777778,
              "#fb9f3a"
             ],
             [
              0.8888888888888888,
              "#fdca26"
             ],
             [
              1,
              "#f0f921"
             ]
            ],
            "type": "histogram2d"
           }
          ],
          "histogram2dcontour": [
           {
            "colorbar": {
             "outlinewidth": 0,
             "ticks": ""
            },
            "colorscale": [
             [
              0,
              "#0d0887"
             ],
             [
              0.1111111111111111,
              "#46039f"
             ],
             [
              0.2222222222222222,
              "#7201a8"
             ],
             [
              0.3333333333333333,
              "#9c179e"
             ],
             [
              0.4444444444444444,
              "#bd3786"
             ],
             [
              0.5555555555555556,
              "#d8576b"
             ],
             [
              0.6666666666666666,
              "#ed7953"
             ],
             [
              0.7777777777777778,
              "#fb9f3a"
             ],
             [
              0.8888888888888888,
              "#fdca26"
             ],
             [
              1,
              "#f0f921"
             ]
            ],
            "type": "histogram2dcontour"
           }
          ],
          "mesh3d": [
           {
            "colorbar": {
             "outlinewidth": 0,
             "ticks": ""
            },
            "type": "mesh3d"
           }
          ],
          "parcoords": [
           {
            "line": {
             "colorbar": {
              "outlinewidth": 0,
              "ticks": ""
             }
            },
            "type": "parcoords"
           }
          ],
          "pie": [
           {
            "automargin": true,
            "type": "pie"
           }
          ],
          "scatter": [
           {
            "fillpattern": {
             "fillmode": "overlay",
             "size": 10,
             "solidity": 0.2
            },
            "type": "scatter"
           }
          ],
          "scatter3d": [
           {
            "line": {
             "colorbar": {
              "outlinewidth": 0,
              "ticks": ""
             }
            },
            "marker": {
             "colorbar": {
              "outlinewidth": 0,
              "ticks": ""
             }
            },
            "type": "scatter3d"
           }
          ],
          "scattercarpet": [
           {
            "marker": {
             "colorbar": {
              "outlinewidth": 0,
              "ticks": ""
             }
            },
            "type": "scattercarpet"
           }
          ],
          "scattergeo": [
           {
            "marker": {
             "colorbar": {
              "outlinewidth": 0,
              "ticks": ""
             }
            },
            "type": "scattergeo"
           }
          ],
          "scattergl": [
           {
            "marker": {
             "colorbar": {
              "outlinewidth": 0,
              "ticks": ""
             }
            },
            "type": "scattergl"
           }
          ],
          "scattermapbox": [
           {
            "marker": {
             "colorbar": {
              "outlinewidth": 0,
              "ticks": ""
             }
            },
            "type": "scattermapbox"
           }
          ],
          "scatterpolar": [
           {
            "marker": {
             "colorbar": {
              "outlinewidth": 0,
              "ticks": ""
             }
            },
            "type": "scatterpolar"
           }
          ],
          "scatterpolargl": [
           {
            "marker": {
             "colorbar": {
              "outlinewidth": 0,
              "ticks": ""
             }
            },
            "type": "scatterpolargl"
           }
          ],
          "scatterternary": [
           {
            "marker": {
             "colorbar": {
              "outlinewidth": 0,
              "ticks": ""
             }
            },
            "type": "scatterternary"
           }
          ],
          "surface": [
           {
            "colorbar": {
             "outlinewidth": 0,
             "ticks": ""
            },
            "colorscale": [
             [
              0,
              "#0d0887"
             ],
             [
              0.1111111111111111,
              "#46039f"
             ],
             [
              0.2222222222222222,
              "#7201a8"
             ],
             [
              0.3333333333333333,
              "#9c179e"
             ],
             [
              0.4444444444444444,
              "#bd3786"
             ],
             [
              0.5555555555555556,
              "#d8576b"
             ],
             [
              0.6666666666666666,
              "#ed7953"
             ],
             [
              0.7777777777777778,
              "#fb9f3a"
             ],
             [
              0.8888888888888888,
              "#fdca26"
             ],
             [
              1,
              "#f0f921"
             ]
            ],
            "type": "surface"
           }
          ],
          "table": [
           {
            "cells": {
             "fill": {
              "color": "#EBF0F8"
             },
             "line": {
              "color": "white"
             }
            },
            "header": {
             "fill": {
              "color": "#C8D4E3"
             },
             "line": {
              "color": "white"
             }
            },
            "type": "table"
           }
          ]
         },
         "layout": {
          "annotationdefaults": {
           "arrowcolor": "#2a3f5f",
           "arrowhead": 0,
           "arrowwidth": 1
          },
          "autotypenumbers": "strict",
          "coloraxis": {
           "colorbar": {
            "outlinewidth": 0,
            "ticks": ""
           }
          },
          "colorscale": {
           "diverging": [
            [
             0,
             "#8e0152"
            ],
            [
             0.1,
             "#c51b7d"
            ],
            [
             0.2,
             "#de77ae"
            ],
            [
             0.3,
             "#f1b6da"
            ],
            [
             0.4,
             "#fde0ef"
            ],
            [
             0.5,
             "#f7f7f7"
            ],
            [
             0.6,
             "#e6f5d0"
            ],
            [
             0.7,
             "#b8e186"
            ],
            [
             0.8,
             "#7fbc41"
            ],
            [
             0.9,
             "#4d9221"
            ],
            [
             1,
             "#276419"
            ]
           ],
           "sequential": [
            [
             0,
             "#0d0887"
            ],
            [
             0.1111111111111111,
             "#46039f"
            ],
            [
             0.2222222222222222,
             "#7201a8"
            ],
            [
             0.3333333333333333,
             "#9c179e"
            ],
            [
             0.4444444444444444,
             "#bd3786"
            ],
            [
             0.5555555555555556,
             "#d8576b"
            ],
            [
             0.6666666666666666,
             "#ed7953"
            ],
            [
             0.7777777777777778,
             "#fb9f3a"
            ],
            [
             0.8888888888888888,
             "#fdca26"
            ],
            [
             1,
             "#f0f921"
            ]
           ],
           "sequentialminus": [
            [
             0,
             "#0d0887"
            ],
            [
             0.1111111111111111,
             "#46039f"
            ],
            [
             0.2222222222222222,
             "#7201a8"
            ],
            [
             0.3333333333333333,
             "#9c179e"
            ],
            [
             0.4444444444444444,
             "#bd3786"
            ],
            [
             0.5555555555555556,
             "#d8576b"
            ],
            [
             0.6666666666666666,
             "#ed7953"
            ],
            [
             0.7777777777777778,
             "#fb9f3a"
            ],
            [
             0.8888888888888888,
             "#fdca26"
            ],
            [
             1,
             "#f0f921"
            ]
           ]
          },
          "colorway": [
           "#636efa",
           "#EF553B",
           "#00cc96",
           "#ab63fa",
           "#FFA15A",
           "#19d3f3",
           "#FF6692",
           "#B6E880",
           "#FF97FF",
           "#FECB52"
          ],
          "font": {
           "color": "#2a3f5f"
          },
          "geo": {
           "bgcolor": "white",
           "lakecolor": "white",
           "landcolor": "white",
           "showlakes": true,
           "showland": true,
           "subunitcolor": "#C8D4E3"
          },
          "hoverlabel": {
           "align": "left"
          },
          "hovermode": "closest",
          "mapbox": {
           "style": "light"
          },
          "paper_bgcolor": "white",
          "plot_bgcolor": "white",
          "polar": {
           "angularaxis": {
            "gridcolor": "#EBF0F8",
            "linecolor": "#EBF0F8",
            "ticks": ""
           },
           "bgcolor": "white",
           "radialaxis": {
            "gridcolor": "#EBF0F8",
            "linecolor": "#EBF0F8",
            "ticks": ""
           }
          },
          "scene": {
           "xaxis": {
            "backgroundcolor": "white",
            "gridcolor": "#DFE8F3",
            "gridwidth": 2,
            "linecolor": "#EBF0F8",
            "showbackground": true,
            "ticks": "",
            "zerolinecolor": "#EBF0F8"
           },
           "yaxis": {
            "backgroundcolor": "white",
            "gridcolor": "#DFE8F3",
            "gridwidth": 2,
            "linecolor": "#EBF0F8",
            "showbackground": true,
            "ticks": "",
            "zerolinecolor": "#EBF0F8"
           },
           "zaxis": {
            "backgroundcolor": "white",
            "gridcolor": "#DFE8F3",
            "gridwidth": 2,
            "linecolor": "#EBF0F8",
            "showbackground": true,
            "ticks": "",
            "zerolinecolor": "#EBF0F8"
           }
          },
          "shapedefaults": {
           "line": {
            "color": "#2a3f5f"
           }
          },
          "ternary": {
           "aaxis": {
            "gridcolor": "#DFE8F3",
            "linecolor": "#A2B1C6",
            "ticks": ""
           },
           "baxis": {
            "gridcolor": "#DFE8F3",
            "linecolor": "#A2B1C6",
            "ticks": ""
           },
           "bgcolor": "white",
           "caxis": {
            "gridcolor": "#DFE8F3",
            "linecolor": "#A2B1C6",
            "ticks": ""
           }
          },
          "title": {
           "x": 0.05
          },
          "xaxis": {
           "automargin": true,
           "gridcolor": "#EBF0F8",
           "linecolor": "#EBF0F8",
           "ticks": "",
           "title": {
            "standoff": 15
           },
           "zerolinecolor": "#EBF0F8",
           "zerolinewidth": 2
          },
          "yaxis": {
           "automargin": true,
           "gridcolor": "#EBF0F8",
           "linecolor": "#EBF0F8",
           "ticks": "",
           "title": {
            "standoff": 15
           },
           "zerolinecolor": "#EBF0F8",
           "zerolinewidth": 2
          }
         }
        },
        "width": 600,
        "xaxis": {
         "autorange": true,
         "range": [
          -0.5,
          7.5
         ],
         "showgrid": false,
         "tickangle": -70,
         "ticktext": [
          "Revenue",
          "FDI",
          "Growth rate",
          "CO2 emission",
          "GDP",
          "Mortality rate",
          "Air pollution",
          ""
         ],
         "tickvals": [
          0,
          1,
          2,
          3,
          4,
          5,
          6,
          7
         ],
         "type": "category"
        },
        "yaxis": {
         "autorange": true,
         "range": [
          7.5,
          -0.5
         ],
         "showgrid": false,
         "ticktext": [
          "",
          "FDI",
          "Growth rate",
          "CO2 emission",
          "GDP",
          "Mortality rate",
          "Air pollution",
          "Renewable energy"
         ],
         "tickvals": [
          0,
          1,
          2,
          3,
          4,
          5,
          6,
          7
         ],
         "type": "category"
        }
       }
      },
      "image/png": "[encoded data removed]",
      "text/html": [
       "<div>                            <div id=\"a4d1b47b-9877-4b4c-814c-6aaa29a1aa87\" class=\"plotly-graph-div\" style=\"height:600px; width:600px;\"></div>            <script type=\"text/javascript\">                require([\"plotly\"], function(Plotly) {                    window.PLOTLYENV=window.PLOTLYENV || {};                                    if (document.getElementById(\"a4d1b47b-9877-4b4c-814c-6aaa29a1aa87\")) {                    Plotly.newPlot(                        \"a4d1b47b-9877-4b4c-814c-6aaa29a1aa87\",                        [{\"colorscale\":[[0,\"#3A27AE\"],[0.49,\"#8DE9F0\"],[0.51,\"#F4F267\"],[1,\"#F27762\"]],\"x\":[\"Revenue\",\"FDI\",\"Growth_rate\",\"CO2_emission\",\"GDP\",\"Mortality_rate\",\"Air pollution\",\"Renewable_energy\"],\"xgap\":1,\"y\":[\"Revenue\",\"FDI\",\"Growth_rate\",\"CO2_emission\",\"GDP\",\"Mortality_rate\",\"Air pollution\",\"Renewable_energy\"],\"ygap\":1,\"z\":[[null,null,null,null,null,null,null,null],[0.053129735040847254,null,null,null,null,null,null,null],[0.0022134001978587406,0.07726139383951637,null,null,null,null,null,null],[-0.01677827445312875,0.5786355695760714,0.08488843860872045,null,null,null,null,null],[0.06335451301297643,0.6313719675044197,0.07364029473067299,0.9375936366876331,null,null,null,null],[-0.03036350356657519,-0.268463468869044,0.015454987395691188,-0.06978286314726567,-0.18863892911642371,null,null,null],[-0.25719467486276604,-0.1708720462840437,-0.025501035298865944,0.018557362874183667,-0.06625405572484512,0.415266504557917,null,null],[-0.06137199097010156,-0.0800138482892717,0.0468284151476966,-0.07663110245175815,-0.06586318449928615,-0.015529287004847375,-0.19894496159055558,null]],\"zmax\":1,\"zmin\":-1,\"type\":\"heatmap\"}],                        {\"height\":600,\"width\":600,\"xaxis\":{\"showgrid\":false,\"tickangle\":-70,\"ticktext\":[\"Revenue\",\"FDI\",\"Growth rate\",\"CO2 emission\",\"GDP\",\"Mortality rate\",\"Air pollution\",\"\"],\"tickvals\":[0,1,2,3,4,5,6,7]},\"yaxis\":{\"autorange\":\"reversed\",\"showgrid\":false,\"ticktext\":[\"\",\"FDI\",\"Growth rate\",\"CO2 emission\",\"GDP\",\"Mortality rate\",\"Air pollution\",\"Renewable energy\"],\"tickvals\":[0,1,2,3,4,5,6,7]},\"template\":{\"data\":{\"histogram2dcontour\":[{\"type\":\"histogram2dcontour\",\"colorbar\":{\"outlinewidth\":0,\"ticks\":\"\"},\"colorscale\":[[0.0,\"#0d0887\"],[0.1111111111111111,\"#46039f\"],[0.2222222222222222,\"#7201a8\"],[0.3333333333333333,\"#9c179e\"],[0.4444444444444444,\"#bd3786\"],[0.5555555555555556,\"#d8576b\"],[0.6666666666666666,\"#ed7953\"],[0.7777777777777778,\"#fb9f3a\"],[0.8888888888888888,\"#fdca26\"],[1.0,\"#f0f921\"]]}],\"choropleth\":[{\"type\":\"choropleth\",\"colorbar\":{\"outlinewidth\":0,\"ticks\":\"\"}}],\"histogram2d\":[{\"type\":\"histogram2d\",\"colorbar\":{\"outlinewidth\":0,\"ticks\":\"\"},\"colorscale\":[[0.0,\"#0d0887\"],[0.1111111111111111,\"#46039f\"],[0.2222222222222222,\"#7201a8\"],[0.3333333333333333,\"#9c179e\"],[0.4444444444444444,\"#bd3786\"],[0.5555555555555556,\"#d8576b\"],[0.6666666666666666,\"#ed7953\"],[0.7777777777777778,\"#fb9f3a\"],[0.8888888888888888,\"#fdca26\"],[1.0,\"#f0f921\"]]}],\"heatmap\":[{\"type\":\"heatmap\",\"colorbar\":{\"outlinewidth\":0,\"ticks\":\"\"},\"colorscale\":[[0.0,\"#0d0887\"],[0.1111111111111111,\"#46039f\"],[0.2222222222222222,\"#7201a8\"],[0.3333333333333333,\"#9c179e\"],[0.4444444444444444,\"#bd3786\"],[0.5555555555555556,\"#d8576b\"],[0.6666666666666666,\"#ed7953\"],[0.7777777777777778,\"#fb9f3a\"],[0.8888888888888888,\"#fdca26\"],[1.0,\"#f0f921\"]]}],\"heatmapgl\":[{\"type\":\"heatmapgl\",\"colorbar\":{\"outlinewidth\":0,\"ticks\":\"\"},\"colorscale\":[[0.0,\"#0d0887\"],[0.1111111111111111,\"#46039f\"],[0.2222222222222222,\"#7201a8\"],[0.3333333333333333,\"#9c179e\"],[0.4444444444444444,\"#bd3786\"],[0.5555555555555556,\"#d8576b\"],[0.6666666666666666,\"#ed7953\"],[0.7777777777777778,\"#fb9f3a\"],[0.8888888888888888,\"#fdca26\"],[1.0,\"#f0f921\"]]}],\"contourcarpet\":[{\"type\":\"contourcarpet\",\"colorbar\":{\"outlinewidth\":0,\"ticks\":\"\"}}],\"contour\":[{\"type\":\"contour\",\"colorbar\":{\"outlinewidth\":0,\"ticks\":\"\"},\"colorscale\":[[0.0,\"#0d0887\"],[0.1111111111111111,\"#46039f\"],[0.2222222222222222,\"#7201a8\"],[0.3333333333333333,\"#9c179e\"],[0.4444444444444444,\"#bd3786\"],[0.5555555555555556,\"#d8576b\"],[0.6666666666666666,\"#ed7953\"],[0.7777777777777778,\"#fb9f3a\"],[0.8888888888888888,\"#fdca26\"],[1.0,\"#f0f921\"]]}],\"surface\":[{\"type\":\"surface\",\"colorbar\":{\"outlinewidth\":0,\"ticks\":\"\"},\"colorscale\":[[0.0,\"#0d0887\"],[0.1111111111111111,\"#46039f\"],[0.2222222222222222,\"#7201a8\"],[0.3333333333333333,\"#9c179e\"],[0.4444444444444444,\"#bd3786\"],[0.5555555555555556,\"#d8576b\"],[0.6666666666666666,\"#ed7953\"],[0.7777777777777778,\"#fb9f3a\"],[0.8888888888888888,\"#fdca26\"],[1.0,\"#f0f921\"]]}],\"mesh3d\":[{\"type\":\"mesh3d\",\"colorbar\":{\"outlinewidth\":0,\"ticks\":\"\"}}],\"scatter\":[{\"fillpattern\":{\"fillmode\":\"overlay\",\"size\":10,\"solidity\":0.2},\"type\":\"scatter\"}],\"parcoords\":[{\"type\":\"parcoords\",\"line\":{\"colorbar\":{\"outlinewidth\":0,\"ticks\":\"\"}}}],\"scatterpolargl\":[{\"type\":\"scatterpolargl\",\"marker\":{\"colorbar\":{\"outlinewidth\":0,\"ticks\":\"\"}}}],\"bar\":[{\"error_x\":{\"color\":\"#2a3f5f\"},\"error_y\":{\"color\":\"#2a3f5f\"},\"marker\":{\"line\":{\"color\":\"white\",\"width\":0.5},\"pattern\":{\"fillmode\":\"overlay\",\"size\":10,\"solidity\":0.2}},\"type\":\"bar\"}],\"scattergeo\":[{\"type\":\"scattergeo\",\"marker\":{\"colorbar\":{\"outlinewidth\":0,\"ticks\":\"\"}}}],\"scatterpolar\":[{\"type\":\"scatterpolar\",\"marker\":{\"colorbar\":{\"outlinewidth\":0,\"ticks\":\"\"}}}],\"histogram\":[{\"marker\":{\"pattern\":{\"fillmode\":\"overlay\",\"size\":10,\"solidity\":0.2}},\"type\":\"histogram\"}],\"scattergl\":[{\"type\":\"scattergl\",\"marker\":{\"colorbar\":{\"outlinewidth\":0,\"ticks\":\"\"}}}],\"scatter3d\":[{\"type\":\"scatter3d\",\"line\":{\"colorbar\":{\"outlinewidth\":0,\"ticks\":\"\"}},\"marker\":{\"colorbar\":{\"outlinewidth\":0,\"ticks\":\"\"}}}],\"scattermapbox\":[{\"type\":\"scattermapbox\",\"marker\":{\"colorbar\":{\"outlinewidth\":0,\"ticks\":\"\"}}}],\"scatterternary\":[{\"type\":\"scatterternary\",\"marker\":{\"colorbar\":{\"outlinewidth\":0,\"ticks\":\"\"}}}],\"scattercarpet\":[{\"type\":\"scattercarpet\",\"marker\":{\"colorbar\":{\"outlinewidth\":0,\"ticks\":\"\"}}}],\"carpet\":[{\"aaxis\":{\"endlinecolor\":\"#2a3f5f\",\"gridcolor\":\"#C8D4E3\",\"linecolor\":\"#C8D4E3\",\"minorgridcolor\":\"#C8D4E3\",\"startlinecolor\":\"#2a3f5f\"},\"baxis\":{\"endlinecolor\":\"#2a3f5f\",\"gridcolor\":\"#C8D4E3\",\"linecolor\":\"#C8D4E3\",\"minorgridcolor\":\"#C8D4E3\",\"startlinecolor\":\"#2a3f5f\"},\"type\":\"carpet\"}],\"table\":[{\"cells\":{\"fill\":{\"color\":\"#EBF0F8\"},\"line\":{\"color\":\"white\"}},\"header\":{\"fill\":{\"color\":\"#C8D4E3\"},\"line\":{\"color\":\"white\"}},\"type\":\"table\"}],\"barpolar\":[{\"marker\":{\"line\":{\"color\":\"white\",\"width\":0.5},\"pattern\":{\"fillmode\":\"overlay\",\"size\":10,\"solidity\":0.2}},\"type\":\"barpolar\"}],\"pie\":[{\"automargin\":true,\"type\":\"pie\"}]},\"layout\":{\"autotypenumbers\":\"strict\",\"colorway\":[\"#636efa\",\"#EF553B\",\"#00cc96\",\"#ab63fa\",\"#FFA15A\",\"#19d3f3\",\"#FF6692\",\"#B6E880\",\"#FF97FF\",\"#FECB52\"],\"font\":{\"color\":\"#2a3f5f\"},\"hovermode\":\"closest\",\"hoverlabel\":{\"align\":\"left\"},\"paper_bgcolor\":\"white\",\"plot_bgcolor\":\"white\",\"polar\":{\"bgcolor\":\"white\",\"angularaxis\":{\"gridcolor\":\"#EBF0F8\",\"linecolor\":\"#EBF0F8\",\"ticks\":\"\"},\"radialaxis\":{\"gridcolor\":\"#EBF0F8\",\"linecolor\":\"#EBF0F8\",\"ticks\":\"\"}},\"ternary\":{\"bgcolor\":\"white\",\"aaxis\":{\"gridcolor\":\"#DFE8F3\",\"linecolor\":\"#A2B1C6\",\"ticks\":\"\"},\"baxis\":{\"gridcolor\":\"#DFE8F3\",\"linecolor\":\"#A2B1C6\",\"ticks\":\"\"},\"caxis\":{\"gridcolor\":\"#DFE8F3\",\"linecolor\":\"#A2B1C6\",\"ticks\":\"\"}},\"coloraxis\":{\"colorbar\":{\"outlinewidth\":0,\"ticks\":\"\"}},\"colorscale\":{\"sequential\":[[0.0,\"#0d0887\"],[0.1111111111111111,\"#46039f\"],[0.2222222222222222,\"#7201a8\"],[0.3333333333333333,\"#9c179e\"],[0.4444444444444444,\"#bd3786\"],[0.5555555555555556,\"#d8576b\"],[0.6666666666666666,\"#ed7953\"],[0.7777777777777778,\"#fb9f3a\"],[0.8888888888888888,\"#fdca26\"],[1.0,\"#f0f921\"]],\"sequentialminus\":[[0.0,\"#0d0887\"],[0.1111111111111111,\"#46039f\"],[0.2222222222222222,\"#7201a8\"],[0.3333333333333333,\"#9c179e\"],[0.4444444444444444,\"#bd3786\"],[0.5555555555555556,\"#d8576b\"],[0.6666666666666666,\"#ed7953\"],[0.7777777777777778,\"#fb9f3a\"],[0.8888888888888888,\"#fdca26\"],[1.0,\"#f0f921\"]],\"diverging\":[[0,\"#8e0152\"],[0.1,\"#c51b7d\"],[0.2,\"#de77ae\"],[0.3,\"#f1b6da\"],[0.4,\"#fde0ef\"],[0.5,\"#f7f7f7\"],[0.6,\"#e6f5d0\"],[0.7,\"#b8e186\"],[0.8,\"#7fbc41\"],[0.9,\"#4d9221\"],[1,\"#276419\"]]},\"xaxis\":{\"gridcolor\":\"#EBF0F8\",\"linecolor\":\"#EBF0F8\",\"ticks\":\"\",\"title\":{\"standoff\":15},\"zerolinecolor\":\"#EBF0F8\",\"automargin\":true,\"zerolinewidth\":2},\"yaxis\":{\"gridcolor\":\"#EBF0F8\",\"linecolor\":\"#EBF0F8\",\"ticks\":\"\",\"title\":{\"standoff\":15},\"zerolinecolor\":\"#EBF0F8\",\"automargin\":true,\"zerolinewidth\":2},\"scene\":{\"xaxis\":{\"backgroundcolor\":\"white\",\"gridcolor\":\"#DFE8F3\",\"linecolor\":\"#EBF0F8\",\"showbackground\":true,\"ticks\":\"\",\"zerolinecolor\":\"#EBF0F8\",\"gridwidth\":2},\"yaxis\":{\"backgroundcolor\":\"white\",\"gridcolor\":\"#DFE8F3\",\"linecolor\":\"#EBF0F8\",\"showbackground\":true,\"ticks\":\"\",\"zerolinecolor\":\"#EBF0F8\",\"gridwidth\":2},\"zaxis\":{\"backgroundcolor\":\"white\",\"gridcolor\":\"#DFE8F3\",\"linecolor\":\"#EBF0F8\",\"showbackground\":true,\"ticks\":\"\",\"zerolinecolor\":\"#EBF0F8\",\"gridwidth\":2}},\"shapedefaults\":{\"line\":{\"color\":\"#2a3f5f\"}},\"annotationdefaults\":{\"arrowcolor\":\"#2a3f5f\",\"arrowhead\":0,\"arrowwidth\":1},\"geo\":{\"bgcolor\":\"white\",\"landcolor\":\"white\",\"subunitcolor\":\"#C8D4E3\",\"showland\":true,\"showlakes\":true,\"lakecolor\":\"white\"},\"title\":{\"x\":0.05},\"mapbox\":{\"style\":\"light\"}}}},                        {\"displayModeBar\": false, \"responsive\": true}                    ).then(function(){\n",
       "                            \n",
       "var gd = document.getElementById('a4d1b47b-9877-4b4c-814c-6aaa29a1aa87');\n",
       "var x = new MutationObserver(function (mutations, observer) {{\n",
       "        var display = window.getComputedStyle(gd).display;\n",
       "        if (!display || display === 'none') {{\n",
       "            console.log([gd, 'removed!']);\n",
       "            Plotly.purge(gd);\n",
       "            observer.disconnect();\n",
       "        }}\n",
       "}});\n",
       "\n",
       "// Listen for the removal of the full notebook cells\n",
       "var notebookContainer = gd.closest('#notebook-container');\n",
       "if (notebookContainer) {{\n",
       "    x.observe(notebookContainer, {childList: true});\n",
       "}}\n",
       "\n",
       "// Listen for the clearing of the current output cell\n",
       "var outputEl = gd.closest('.output');\n",
       "if (outputEl) {{\n",
       "    x.observe(outputEl, {childList: true});\n",
       "}}\n",
       "\n",
       "                        })                };                });            </script>        </div>"
      ]
     },
     "metadata": {},
     "output_type": "display_data"
    }
   ],
   "source": [
    "def corr_heatmap(corr, period):\n",
    "    custom_colorscale = [\n",
    "    [0, '#3A27AE'],\n",
    "    [0.49, '#8DE9F0'], \n",
    "    [0.51, '#F4F267'],\n",
    "    [1, '#F27762']]\n",
    "    \n",
    "    nan_perc = NaN_percentage(corr)\n",
    "    keep_index = nan_perc[nan_perc.iloc[:,1]<=0.3].index[2:]\n",
    "    corr = corr.loc[:,keep_index].dropna()\n",
    "    corr_matrix  = corr.corr() # Compute pairwise correlation of columns, excluding NA/null values.\n",
    "    mask = np.triu(np.ones_like(corr_matrix, dtype=bool))\n",
    "    corr_matr_viz = corr_matrix.mask(mask)\n",
    "    pio.templates.default = \"plotly_white\"\n",
    "\n",
    "    heat = go.Heatmap(\n",
    "        z = corr_matr_viz,\n",
    "        x = corr_matr_viz.columns.values,\n",
    "        y = corr_matr_viz.columns.values,\n",
    "        zmin = - 1, # Sets the lower bound of the color domain\n",
    "        zmax = 1,\n",
    "        xgap = 1, # Sets the horizontal gap (in pixels) between bricks\n",
    "        ygap = 1,\n",
    "        colorscale = custom_colorscale #'thermal'\n",
    "    )\n",
    "    if period ==1:\n",
    "        x_dict = dict(\n",
    "                ticktext= ['FDI', 'Growth rate', 'CO2 emission', 'GDP', ''],\n",
    "                tickvals=list(range(len(corr_matr_viz.columns))))\n",
    "\n",
    "        y_dict = dict(\n",
    "                ticktext= ['', 'Growth rate', 'CO2 emission', 'GDP',\n",
    "           'Renewable energy share'],\n",
    "                tickvals=list(range(len(corr_matr_viz.columns))))\n",
    "    elif period == 2:\n",
    "        x_dict = dict(\n",
    "                ticktext= ['FDI', 'Growth rate', 'CO2 emission', 'GDP', 'Mortality rate','Air pollution',''],\n",
    "                tickvals=list(range(len(corr_matr_viz.columns))))\n",
    "\n",
    "        y_dict = dict(\n",
    "                ticktext= ['', 'Growth rate', 'CO2 emission', 'GDP','Mortality rate','Air pollution','Renewable energy'],\n",
    "                tickvals=list(range(len(corr_matr_viz.columns))))\n",
    "    elif period == 3:\n",
    "        x_dict = dict(\n",
    "                ticktext= ['Revenue','FDI', 'Growth rate', 'CO2 emission', 'GDP', 'Mortality rate','Air pollution',''],\n",
    "                tickvals=list(range(len(corr_matr_viz.columns))))\n",
    "\n",
    "        y_dict = dict(\n",
    "                ticktext= ['', 'FDI', 'Growth rate', 'CO2 emission', 'GDP','Mortality rate','Air pollution','Renewable energy'],\n",
    "                tickvals=list(range(len(corr_matr_viz.columns))))      \n",
    "    elif period == 4:\n",
    "        x_dict = dict(\n",
    "                ticktext= ['Revenue','FDI', 'Growth rate', 'CO2 emission', 'GDP', 'Mortality rate','Air pollution',''],\n",
    "                tickvals=list(range(len(corr_matr_viz.columns))))\n",
    "\n",
    "        y_dict = dict(\n",
    "                ticktext= ['', 'FDI', 'Growth rate', 'CO2 emission', 'GDP','Mortality rate','Air pollution','Renewable energy'],\n",
    "                tickvals=list(range(len(corr_matr_viz.columns))))         \n",
    "    else:\n",
    "        print('Error, no valid Period')\n",
    "\n",
    "    layout = go.Layout(\n",
    "        width=600, \n",
    "        height=600,\n",
    "        xaxis_showgrid=False,\n",
    "        yaxis_showgrid=False,\n",
    "        yaxis_autorange='reversed',\n",
    "        xaxis_tickangle= -70,\n",
    "        xaxis= x_dict, \n",
    "        yaxis = y_dict)\n",
    "\n",
    "    fig=go.Figure(data=[heat], layout=layout)\n",
    "    config = {'displayModeBar': False}\n",
    "\n",
    "    # display the figure with the config object\n",
    "    fig.show(config=config)\n",
    "    \n",
    "    fig.write_html(datafolder+\"heatmap2.html\", config=config)\n",
    "corr_heatmap(corr_viz4, 4)    "
   ]
  },
  {
   "cell_type": "code",
   "execution_count": null,
   "id": "beaace6a-9519-444a-9af3-dde885c513b1",
   "metadata": {},
   "outputs": [],
   "source": []
  }
 ],
 "metadata": {
  "kernelspec": {
   "display_name": "Python 3 (ipykernel)",
   "language": "python",
   "name": "python3"
  },
  "language_info": {
   "codemirror_mode": {
    "name": "ipython",
    "version": 3
   },
   "file_extension": ".py",
   "mimetype": "text/x-python",
   "name": "python",
   "nbconvert_exporter": "python",
   "pygments_lexer": "ipython3",
   "version": "3.9.12"
  }
 },
 "nbformat": 4,
 "nbformat_minor": 5
}
