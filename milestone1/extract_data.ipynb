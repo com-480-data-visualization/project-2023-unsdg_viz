{
 "cells": [
  {
   "cell_type": "code",
   "execution_count": 1,
   "id": "909b10ca-9c6e-4d7a-9915-38e7d3a53bca",
   "metadata": {},
   "outputs": [],
   "source": [
    "import pandas as pd\n",
    "import numpy as np\n",
    "import matplotlib.pyplot as plt\n",
    "import os"
   ]
  },
  {
   "cell_type": "code",
   "execution_count": 30,
   "id": "49fb90c9-a1e7-4e97-800b-6efa6ec76562",
   "metadata": {},
   "outputs": [
    {
     "data": {
      "text/plain": [
       "'C:\\\\Users\\\\Sophia\\\\Documents\\\\EPFL\\\\4rd_semester\\\\data_visualization\\\\project\\\\project-2023-unsdg_viz\\\\milestone1'"
      ]
     },
     "execution_count": 30,
     "metadata": {},
     "output_type": "execute_result"
    }
   ],
   "source": [
    "import os\n",
    "import sys\n",
    "os.getcwd()"
   ]
  },
  {
   "cell_type": "code",
   "execution_count": 201,
   "id": "2829f6c0-0fd4-4107-9ea2-ac002f8b4e0a",
   "metadata": {},
   "outputs": [],
   "source": [
    "# get the absolute path of the current working directory\n",
    "cwd = os.path.abspath(os.getcwd())\n",
    "\n",
    "# go up one level in the directory tree\n",
    "parent_dir = os.path.abspath(os.path.join(cwd, os.pardir))\n",
    "\n",
    "# go into the 'data' directory\n",
    "data_dir = os.path.join(parent_dir, 'data')"
   ]
  },
  {
   "cell_type": "code",
   "execution_count": 221,
   "id": "532a7a0b-40cd-4c07-86cd-e5d67796b48c",
   "metadata": {},
   "outputs": [],
   "source": [
    "datafolder = data_dir + '\\\\' #'./data/' \n",
    "data = pd.read_csv(datafolder + 'unsdg_2002_2021.csv')\n",
    "co2 = pd.read_csv(datafolder + 'annual-co-emissions-by-region.csv')\n",
    "gdp = pd.read_csv(datafolder + 'gross-domestic-product.csv')\n",
    "literacy = pd.read_csv(datafolder + 'literacy-rate-adults.csv')\n",
    "no_edu = pd.read_csv(datafolder + 'rate-of-no-education.csv')\n",
    "air_pollution = pd.read_csv(datafolder + 'share-above-who-pollution-guidelines.csv')\n",
    "renewable_energy = pd.read_csv(datafolder + 'co2-per-capita-vs-renewable-electricity.csv')"
   ]
  },
  {
   "cell_type": "code",
   "execution_count": 222,
   "id": "c2368a90-7b15-4c53-8561-1a1602fed539",
   "metadata": {},
   "outputs": [],
   "source": [
    "co2_list = list(co2.Entity.unique()) \n",
    "gdp_list = list(gdp.Entity.unique()) \n",
    "no_edu_list = list(no_edu.Entity.unique()) \n",
    "air_pollution_list = list(air_pollution.Entity.unique()) \n",
    "renewable_energy_list = list(renewable_energy.Entity.unique()) \n",
    "data_list = list(data.country.unique())"
   ]
  },
  {
   "cell_type": "code",
   "execution_count": 223,
   "id": "67cbdaa6-d77e-4ef0-b543-8d504c5204ba",
   "metadata": {},
   "outputs": [],
   "source": [
    "replace_dict = {'Bolivia (Plurinational State of)': 'Bolivia', \n",
    "                'Bonaire, Sint Eustatius and Saba': 'Bonaire Sint Eustatius and Saba',\n",
    "               'China, Hong Kong Special Administrative Region': 'Hong Kong',\n",
    "                \"Côte d'Ivoire\": \"Cote d'Ivoire\",\n",
    "                \"Democratic People's Republic of Korea\": 'South Korea',\n",
    "                'Republic of Korea':'South Korea',\n",
    "                'Democratic Republic of the Congo': 'Democratic Republic of Congo',\n",
    "                'Falkland Islands (Malvinas)': 'Falkland Islands',\n",
    "                'French Southern Territories': 'French Equatorial Africa (GCP)',\n",
    "                'Iran (Islamic Republic of)': 'Iran',\n",
    "                \"Lao People's Democratic Republic\": 'Laos',\n",
    "                'Micronesia (Federated States of)': 'Micronesia (country)',\n",
    "                'Republic of Moldova': 'Moldova',\n",
    "                'Russian Federation':  'Russia', \n",
    "                'Saint Martin (French Part)': 'Saint Martin (French part)',\n",
    "                'Serbia and Montenegro [former]' : 'Montenegro',\n",
    "                'State of Palestine': 'Palestine',\n",
    "                'Sudan [former]': 'Sudan',\n",
    "                'Svalbard and Jan Mayen Islands': 'Svalbard and Jan Mayen',\n",
    "                'Syrian Arab Republic': 'Syria',\n",
    "                'Timor-Leste': 'Timor',\n",
    "                'Türkiye': 'Turkey',\n",
    "                'United Kingdom (England and Wales)': 'United Kingdom',\n",
    "                'United Kingdom (Northern Ireland)': 'Ireland',\n",
    "                'United Republic of Tanzania': 'Tanzania',\n",
    "                'United States of America': 'United States',\n",
    "                'Venezuela (Bolivarian Republic of)': 'Venezuela',\n",
    "                'Viet Nam': 'Vietnam',\n",
    "                'Wallis and Futuna Islands': 'Wallis and Futuna',\n",
    "                'Yugoslavia [former]': 'Bosnia and Herzegovina'\n",
    "               }\n",
    "data.country = data.country.replace(replace_dict)"
   ]
  },
  {
   "cell_type": "code",
   "execution_count": 224,
   "id": "80c63b16-7293-45f1-ab15-312617485d1d",
   "metadata": {},
   "outputs": [],
   "source": [
    "data_outer = data.merge(co2[['Entity', 'Annual CO₂ emissions (zero filled)', 'Year']], \n",
    "                              left_on = ['country', 'dt_year'], right_on = ['Entity', 'Year'], how = 'right')"
   ]
  },
  {
   "cell_type": "code",
   "execution_count": 225,
   "id": "b14f4158-656f-4480-92df-2953f0f7b07f",
   "metadata": {},
   "outputs": [],
   "source": [
    "data_outer = data_outer.merge(no_edu[['Entity', 'IIASA rates of no education projections (IIASA (2015))', 'Year']], \n",
    "                        left_on = ['Entity', 'Year'], right_on = ['Entity', 'Year'], how = 'left')"
   ]
  },
  {
   "cell_type": "code",
   "execution_count": 226,
   "id": "0e81dc6d-1491-4aad-a93c-a1b9d22ef72f",
   "metadata": {},
   "outputs": [],
   "source": [
    "data_outer = data_outer.merge(gdp[['Entity', 'GDP (constant 2015 US$)', 'Year']], \n",
    "                              left_on = ['Entity', 'Year'], right_on = ['Entity', 'Year'], how = 'left')"
   ]
  },
  {
   "cell_type": "code",
   "execution_count": 227,
   "id": "5884c179-0940-4498-aec0-9833b433f372",
   "metadata": {},
   "outputs": [],
   "source": [
    "data_outer = data_outer.merge(literacy[['Entity', 'Literacy rate, adult total (% of people ages 15 and above)', 'Year']], \n",
    "                              left_on = ['Entity', 'Year'], right_on = ['Entity', 'Year'], how = 'left')"
   ]
  },
  {
   "cell_type": "code",
   "execution_count": 228,
   "id": "d2be1497-9326-451d-b641-a99eafe4539a",
   "metadata": {},
   "outputs": [],
   "source": [
    "data_outer = data_outer.merge(air_pollution[['Entity', 'PM2.5 air pollution, population exposed to levels exceeding WHO guideline value (% of total)', 'Year']], \n",
    "                              left_on = ['Entity', 'Year'], right_on = ['Entity', 'Year'], how = 'left')"
   ]
  },
  {
   "cell_type": "code",
   "execution_count": 229,
   "id": "e7d12baf-54cd-4c85-bec1-eb0bcf30c6da",
   "metadata": {},
   "outputs": [],
   "source": [
    "data_outer = data_outer.merge(renewable_energy[['Entity', 'Renewables (% electricity)', 'Year']], \n",
    "                              left_on = ['Entity', 'Year'], right_on = ['Entity', 'Year'], how = 'left')"
   ]
  },
  {
   "cell_type": "code",
   "execution_count": 230,
   "id": "abd22540-9d55-4915-bc5b-04633a203f5a",
   "metadata": {},
   "outputs": [],
   "source": [
    "data_outer = data_outer.drop(columns = ['country', 'dt_year'])\n",
    "data_outer.rename(columns={'Entity': 'country'}, inplace=True)"
   ]
  },
  {
   "cell_type": "code",
   "execution_count": 231,
   "id": "cb9c5ef3-a575-4e1f-b882-39ec0480f7d5",
   "metadata": {},
   "outputs": [],
   "source": [
    "# Interpolate between measurement\n",
    "data_viz = data_outer.groupby('country').apply(pd.DataFrame.interpolate)"
   ]
  },
  {
   "cell_type": "code",
   "execution_count": 232,
   "id": "67c90a85-48e0-4484-96ef-8152787f8dd6",
   "metadata": {},
   "outputs": [],
   "source": [
    "# Extract interesting feature based on Milestone 1\n",
    "data_viz = data_viz[['Year', 'country','co2emissions_from_fuel_combustion_in_millions_of_tonnes', \n",
    "      'total_government_revenue_proportion_of_gdp_perc',  'fdi_inflows_millionusd',\n",
    "      'annual_growth_rate_perc',\n",
    "      'Annual CO₂ emissions (zero filled)',\n",
    "     'GDP (constant 2015 US$)', 'mortality_rate_perc',\n",
    "         'PM2.5 air pollution, population exposed to levels exceeding WHO guideline value (% of total)',\n",
    "         'Literacy rate, adult total (% of people ages 15 and above)', 'Renewables (% electricity)']]"
   ]
  },
  {
   "cell_type": "code",
   "execution_count": 233,
   "id": "39877400-d10b-44e1-995c-13e5f1497bb3",
   "metadata": {},
   "outputs": [],
   "source": [
    "# Rename feature\n",
    "rename_dict = {'co2emissions_from_fuel_combustion_in_millions_of_tonnes': 'CO2_fuel_combustion', \n",
    "      'total_government_revenue_proportion_of_gdp_perc':'Revenue',  'fdi_inflows_millionusd':'FDI',\n",
    "      'annual_growth_rate_perc':'Growth_rate',\n",
    "      'Annual CO₂ emissions (zero filled)':'CO2_emission',\n",
    "     'GDP (constant 2015 US$)':'GDP', 'mortality_rate_perc':'Mortality_rate',\n",
    "         'PM2.5 air pollution, population exposed to levels exceeding WHO guideline value (% of total)':'Air pollution',\n",
    "         'Literacy rate, adult total (% of people ages 15 and above)':'Literacy rate', \n",
    "              'Renewables (% electricity)': 'Renewable_energy'}\n",
    "data_viz = data_viz.rename(columns=rename_dict)"
   ]
  },
  {
   "cell_type": "code",
   "execution_count": 234,
   "id": "93318cd8-6ce8-4e9a-a88b-bb8350d4f88d",
   "metadata": {},
   "outputs": [],
   "source": [
    "data_viz.to_pickle(\"./data_viz.pkl\")"
   ]
  },
  {
   "cell_type": "markdown",
   "id": "a8d0b7a7-22b9-4e8b-be4c-b23cbe3849d2",
   "metadata": {},
   "source": [
    "***\n",
    "For correlation viz"
   ]
  },
  {
   "cell_type": "code",
   "execution_count": 236,
   "id": "30a5df40-d2ba-4799-930e-468a6a9587cf",
   "metadata": {},
   "outputs": [],
   "source": [
    "# Only keep countries that have info about CO2\n",
    "data_viz = data_viz[data_viz.country.isin(co2.Entity)]"
   ]
  },
  {
   "cell_type": "code",
   "execution_count": 240,
   "id": "cac65e3c-d508-49b1-a18a-744bd2550c66",
   "metadata": {},
   "outputs": [],
   "source": [
    "# Calculate number of NaN\n",
    "def NaN_percentage(df):\n",
    "    '''\n",
    "    Returns a df with columnname and their respective number of NaN and what percentage this corresponds to.\n",
    "    Args:\n",
    "        df = movies, characters\n",
    "    '''\n",
    "    \n",
    "    n_NaN = []\n",
    "    perc_NaN = []\n",
    "    length = len(df)\n",
    "\n",
    "    for column in df:\n",
    "        i_nan = df[column].isna().sum()\n",
    "        perc_nan = i_nan/ length\n",
    "        n_NaN.append(i_nan)\n",
    "        perc_NaN.append(perc_nan)\n",
    "\n",
    "    # Create df with results\n",
    "    index_df = df.columns.to_list()\n",
    "    df_NaN = pd.DataFrame({'number of NaN':n_NaN, 'percentage of NaN':perc_NaN}, index= index_df )\n",
    "    return df_NaN"
   ]
  },
  {
   "cell_type": "markdown",
   "id": "f042cb77-022a-4248-84d2-a7ef52c44845",
   "metadata": {},
   "source": [
    "***\n",
    "#### Correlation matrix - heatmap\n",
    "Availability of data varies with time -> divide data into 2002 - 2005, 2005-2010, 2010-2015, 2015-2021. <br>\n",
    "Keep features that have a NaN perc <= 30% <br>\n",
    "remove all records that contain NaN"
   ]
  },
  {
   "cell_type": "code",
   "execution_count": 241,
   "id": "0df3c281-b68d-4c51-9f8a-2f89bfd228e9",
   "metadata": {},
   "outputs": [],
   "source": [
    "import plotly as plotly\n",
    "import plotly.io as pio\n",
    "import plotly.graph_objects as go"
   ]
  },
  {
   "cell_type": "code",
   "execution_count": 272,
   "id": "adc3503a-24d4-4796-8fa5-4893fd27c780",
   "metadata": {},
   "outputs": [],
   "source": [
    "corr_viz1 = data_viz2[(data_viz2.Year<2005)]\n",
    "corr_viz2 = data_viz[(data_viz.Year>=2005)&(data_viz.Year<2010)]\n",
    "corr_viz3 = data_viz[(data_viz.Year>=2010)&(data_viz.Year<2015)]\n",
    "corr_viz4 = data_viz[(data_viz.Year>=2015)]"
   ]
  },
  {
   "cell_type": "code",
   "execution_count": 273,
   "id": "d6b301ee-7ed0-461d-8378-7c3222ddb532",
   "metadata": {},
   "outputs": [
    {
     "data": {
      "text/html": [
       "<div>\n",
       "<style scoped>\n",
       "    .dataframe tbody tr th:only-of-type {\n",
       "        vertical-align: middle;\n",
       "    }\n",
       "\n",
       "    .dataframe tbody tr th {\n",
       "        vertical-align: top;\n",
       "    }\n",
       "\n",
       "    .dataframe thead th {\n",
       "        text-align: right;\n",
       "    }\n",
       "</style>\n",
       "<table border=\"1\" class=\"dataframe\">\n",
       "  <thead>\n",
       "    <tr style=\"text-align: right;\">\n",
       "      <th></th>\n",
       "      <th>number of NaN</th>\n",
       "      <th>percentage of NaN</th>\n",
       "    </tr>\n",
       "  </thead>\n",
       "  <tbody>\n",
       "    <tr>\n",
       "      <th>Year</th>\n",
       "      <td>0</td>\n",
       "      <td>0.000000</td>\n",
       "    </tr>\n",
       "    <tr>\n",
       "      <th>country</th>\n",
       "      <td>0</td>\n",
       "      <td>0.000000</td>\n",
       "    </tr>\n",
       "    <tr>\n",
       "      <th>CO2_fuel_combustion</th>\n",
       "      <td>934</td>\n",
       "      <td>0.686765</td>\n",
       "    </tr>\n",
       "    <tr>\n",
       "      <th>Revenue</th>\n",
       "      <td>984</td>\n",
       "      <td>0.723529</td>\n",
       "    </tr>\n",
       "    <tr>\n",
       "      <th>FDI</th>\n",
       "      <td>754</td>\n",
       "      <td>0.554412</td>\n",
       "    </tr>\n",
       "    <tr>\n",
       "      <th>Growth_rate</th>\n",
       "      <td>740</td>\n",
       "      <td>0.544118</td>\n",
       "    </tr>\n",
       "    <tr>\n",
       "      <th>CO2_emission</th>\n",
       "      <td>0</td>\n",
       "      <td>0.000000</td>\n",
       "    </tr>\n",
       "    <tr>\n",
       "      <th>GDP</th>\n",
       "      <td>366</td>\n",
       "      <td>0.269118</td>\n",
       "    </tr>\n",
       "    <tr>\n",
       "      <th>Mortality_rate</th>\n",
       "      <td>1360</td>\n",
       "      <td>1.000000</td>\n",
       "    </tr>\n",
       "    <tr>\n",
       "      <th>Air pollution</th>\n",
       "      <td>375</td>\n",
       "      <td>0.275735</td>\n",
       "    </tr>\n",
       "    <tr>\n",
       "      <th>Literacy rate</th>\n",
       "      <td>589</td>\n",
       "      <td>0.433088</td>\n",
       "    </tr>\n",
       "    <tr>\n",
       "      <th>Renewable_energy</th>\n",
       "      <td>257</td>\n",
       "      <td>0.188971</td>\n",
       "    </tr>\n",
       "  </tbody>\n",
       "</table>\n",
       "</div>"
      ],
      "text/plain": [
       "                     number of NaN  percentage of NaN\n",
       "Year                             0           0.000000\n",
       "country                          0           0.000000\n",
       "CO2_fuel_combustion            934           0.686765\n",
       "Revenue                        984           0.723529\n",
       "FDI                            754           0.554412\n",
       "Growth_rate                    740           0.544118\n",
       "CO2_emission                     0           0.000000\n",
       "GDP                            366           0.269118\n",
       "Mortality_rate                1360           1.000000\n",
       "Air pollution                  375           0.275735\n",
       "Literacy rate                  589           0.433088\n",
       "Renewable_energy               257           0.188971"
      ]
     },
     "execution_count": 273,
     "metadata": {},
     "output_type": "execute_result"
    }
   ],
   "source": [
    "NaN_percentage(corr_viz1)"
   ]
  },
  {
   "cell_type": "code",
   "execution_count": 271,
   "id": "07bad347-227b-440f-8eb5-62038bd4fa75",
   "metadata": {},
   "outputs": [],
   "source": [
    "data_viz2 = data_viz[data_viz.Year>= 2000]"
   ]
  },
  {
   "cell_type": "code",
   "execution_count": 267,
   "id": "130ff268-51ce-4e57-95d0-c45bdebf4d8d",
   "metadata": {},
   "outputs": [
    {
     "data": {
      "text/plain": [
       "1960"
      ]
     },
     "execution_count": 267,
     "metadata": {},
     "output_type": "execute_result"
    }
   ],
   "source": [
    "gdp.Year.min()"
   ]
  },
  {
   "cell_type": "code",
   "execution_count": 244,
   "id": "e60169f4-57e2-4653-bb90-22adfb7c53cc",
   "metadata": {},
   "outputs": [],
   "source": [
    "import plotly.offline as offline"
   ]
  },
  {
   "cell_type": "code",
   "execution_count": 249,
   "id": "c91d99cf-b268-4f03-ba5c-ec822160f77b",
   "metadata": {},
   "outputs": [],
   "source": [
    "period = 1\n",
    "if period ==1:\n",
    "        df_viz = corr_viz1\n",
    "elif period == 2:\n",
    "        df_viz = corr_viz2\n",
    "elif period == 3:\n",
    "        df_viz = corr_viz3  \n",
    "elif period == 4:\n",
    "        df_viz = corr_viz4\n",
    "else:\n",
    "        print('Error, no valid Period')"
   ]
  },
  {
   "cell_type": "code",
   "execution_count": 251,
   "id": "237e52bb-9b76-466e-a636-4b00390da829",
   "metadata": {},
   "outputs": [
    {
     "data": {
      "text/html": [
       "<div>\n",
       "<style scoped>\n",
       "    .dataframe tbody tr th:only-of-type {\n",
       "        vertical-align: middle;\n",
       "    }\n",
       "\n",
       "    .dataframe tbody tr th {\n",
       "        vertical-align: top;\n",
       "    }\n",
       "\n",
       "    .dataframe thead th {\n",
       "        text-align: right;\n",
       "    }\n",
       "</style>\n",
       "<table border=\"1\" class=\"dataframe\">\n",
       "  <thead>\n",
       "    <tr style=\"text-align: right;\">\n",
       "      <th></th>\n",
       "      <th>Year</th>\n",
       "      <th>country</th>\n",
       "      <th>CO2_fuel_combustion</th>\n",
       "      <th>Revenue</th>\n",
       "      <th>FDI</th>\n",
       "      <th>Growth_rate</th>\n",
       "      <th>CO2_emission</th>\n",
       "      <th>GDP</th>\n",
       "      <th>Mortality_rate</th>\n",
       "      <th>Air pollution</th>\n",
       "      <th>Literacy rate</th>\n",
       "      <th>Renewable_energy</th>\n",
       "    </tr>\n",
       "  </thead>\n",
       "  <tbody>\n",
       "    <tr>\n",
       "      <th>0</th>\n",
       "      <td>1750</td>\n",
       "      <td>Afghanistan</td>\n",
       "      <td>NaN</td>\n",
       "      <td>NaN</td>\n",
       "      <td>NaN</td>\n",
       "      <td>NaN</td>\n",
       "      <td>0.0</td>\n",
       "      <td>NaN</td>\n",
       "      <td>NaN</td>\n",
       "      <td>NaN</td>\n",
       "      <td>NaN</td>\n",
       "      <td>NaN</td>\n",
       "    </tr>\n",
       "    <tr>\n",
       "      <th>1</th>\n",
       "      <td>1751</td>\n",
       "      <td>Afghanistan</td>\n",
       "      <td>NaN</td>\n",
       "      <td>NaN</td>\n",
       "      <td>NaN</td>\n",
       "      <td>NaN</td>\n",
       "      <td>0.0</td>\n",
       "      <td>NaN</td>\n",
       "      <td>NaN</td>\n",
       "      <td>NaN</td>\n",
       "      <td>NaN</td>\n",
       "      <td>NaN</td>\n",
       "    </tr>\n",
       "    <tr>\n",
       "      <th>2</th>\n",
       "      <td>1752</td>\n",
       "      <td>Afghanistan</td>\n",
       "      <td>NaN</td>\n",
       "      <td>NaN</td>\n",
       "      <td>NaN</td>\n",
       "      <td>NaN</td>\n",
       "      <td>0.0</td>\n",
       "      <td>NaN</td>\n",
       "      <td>NaN</td>\n",
       "      <td>NaN</td>\n",
       "      <td>NaN</td>\n",
       "      <td>NaN</td>\n",
       "    </tr>\n",
       "    <tr>\n",
       "      <th>3</th>\n",
       "      <td>1753</td>\n",
       "      <td>Afghanistan</td>\n",
       "      <td>NaN</td>\n",
       "      <td>NaN</td>\n",
       "      <td>NaN</td>\n",
       "      <td>NaN</td>\n",
       "      <td>0.0</td>\n",
       "      <td>NaN</td>\n",
       "      <td>NaN</td>\n",
       "      <td>NaN</td>\n",
       "      <td>NaN</td>\n",
       "      <td>NaN</td>\n",
       "    </tr>\n",
       "    <tr>\n",
       "      <th>4</th>\n",
       "      <td>1754</td>\n",
       "      <td>Afghanistan</td>\n",
       "      <td>NaN</td>\n",
       "      <td>NaN</td>\n",
       "      <td>NaN</td>\n",
       "      <td>NaN</td>\n",
       "      <td>0.0</td>\n",
       "      <td>NaN</td>\n",
       "      <td>NaN</td>\n",
       "      <td>NaN</td>\n",
       "      <td>NaN</td>\n",
       "      <td>NaN</td>\n",
       "    </tr>\n",
       "    <tr>\n",
       "      <th>...</th>\n",
       "      <td>...</td>\n",
       "      <td>...</td>\n",
       "      <td>...</td>\n",
       "      <td>...</td>\n",
       "      <td>...</td>\n",
       "      <td>...</td>\n",
       "      <td>...</td>\n",
       "      <td>...</td>\n",
       "      <td>...</td>\n",
       "      <td>...</td>\n",
       "      <td>...</td>\n",
       "      <td>...</td>\n",
       "    </tr>\n",
       "    <tr>\n",
       "      <th>73246</th>\n",
       "      <td>2000</td>\n",
       "      <td>Zimbabwe</td>\n",
       "      <td>NaN</td>\n",
       "      <td>NaN</td>\n",
       "      <td>NaN</td>\n",
       "      <td>NaN</td>\n",
       "      <td>13818202.0</td>\n",
       "      <td>2.015994e+10</td>\n",
       "      <td>NaN</td>\n",
       "      <td>100.0</td>\n",
       "      <td>83.542109</td>\n",
       "      <td>51.038578</td>\n",
       "    </tr>\n",
       "    <tr>\n",
       "      <th>73247</th>\n",
       "      <td>2001</td>\n",
       "      <td>Zimbabwe</td>\n",
       "      <td>NaN</td>\n",
       "      <td>NaN</td>\n",
       "      <td>NaN</td>\n",
       "      <td>NaN</td>\n",
       "      <td>12508722.0</td>\n",
       "      <td>2.045017e+10</td>\n",
       "      <td>NaN</td>\n",
       "      <td>100.0</td>\n",
       "      <td>83.545800</td>\n",
       "      <td>42.875988</td>\n",
       "    </tr>\n",
       "    <tr>\n",
       "      <th>73248</th>\n",
       "      <td>2002</td>\n",
       "      <td>Zimbabwe</td>\n",
       "      <td>12.25</td>\n",
       "      <td>NaN</td>\n",
       "      <td>3.8</td>\n",
       "      <td>-0.061782</td>\n",
       "      <td>11895839.0</td>\n",
       "      <td>1.863133e+10</td>\n",
       "      <td>NaN</td>\n",
       "      <td>100.0</td>\n",
       "      <td>83.549491</td>\n",
       "      <td>50.121063</td>\n",
       "    </tr>\n",
       "    <tr>\n",
       "      <th>73249</th>\n",
       "      <td>2003</td>\n",
       "      <td>Zimbabwe</td>\n",
       "      <td>10.02</td>\n",
       "      <td>NaN</td>\n",
       "      <td>25.9</td>\n",
       "      <td>-0.076776</td>\n",
       "      <td>10609583.0</td>\n",
       "      <td>1.546492e+10</td>\n",
       "      <td>NaN</td>\n",
       "      <td>100.0</td>\n",
       "      <td>83.553182</td>\n",
       "      <td>65.105385</td>\n",
       "    </tr>\n",
       "    <tr>\n",
       "      <th>73250</th>\n",
       "      <td>2004</td>\n",
       "      <td>Zimbabwe</td>\n",
       "      <td>9.57</td>\n",
       "      <td>NaN</td>\n",
       "      <td>3.8</td>\n",
       "      <td>-0.039447</td>\n",
       "      <td>9428642.0</td>\n",
       "      <td>1.456679e+10</td>\n",
       "      <td>NaN</td>\n",
       "      <td>100.0</td>\n",
       "      <td>83.556873</td>\n",
       "      <td>61.424020</td>\n",
       "    </tr>\n",
       "  </tbody>\n",
       "</table>\n",
       "<p>68610 rows × 12 columns</p>\n",
       "</div>"
      ],
      "text/plain": [
       "       Year      country  CO2_fuel_combustion  Revenue   FDI  Growth_rate  \\\n",
       "0      1750  Afghanistan                  NaN      NaN   NaN          NaN   \n",
       "1      1751  Afghanistan                  NaN      NaN   NaN          NaN   \n",
       "2      1752  Afghanistan                  NaN      NaN   NaN          NaN   \n",
       "3      1753  Afghanistan                  NaN      NaN   NaN          NaN   \n",
       "4      1754  Afghanistan                  NaN      NaN   NaN          NaN   \n",
       "...     ...          ...                  ...      ...   ...          ...   \n",
       "73246  2000     Zimbabwe                  NaN      NaN   NaN          NaN   \n",
       "73247  2001     Zimbabwe                  NaN      NaN   NaN          NaN   \n",
       "73248  2002     Zimbabwe                12.25      NaN   3.8    -0.061782   \n",
       "73249  2003     Zimbabwe                10.02      NaN  25.9    -0.076776   \n",
       "73250  2004     Zimbabwe                 9.57      NaN   3.8    -0.039447   \n",
       "\n",
       "       CO2_emission           GDP  Mortality_rate  Air pollution  \\\n",
       "0               0.0           NaN             NaN            NaN   \n",
       "1               0.0           NaN             NaN            NaN   \n",
       "2               0.0           NaN             NaN            NaN   \n",
       "3               0.0           NaN             NaN            NaN   \n",
       "4               0.0           NaN             NaN            NaN   \n",
       "...             ...           ...             ...            ...   \n",
       "73246    13818202.0  2.015994e+10             NaN          100.0   \n",
       "73247    12508722.0  2.045017e+10             NaN          100.0   \n",
       "73248    11895839.0  1.863133e+10             NaN          100.0   \n",
       "73249    10609583.0  1.546492e+10             NaN          100.0   \n",
       "73250     9428642.0  1.456679e+10             NaN          100.0   \n",
       "\n",
       "       Literacy rate  Renewable_energy  \n",
       "0                NaN               NaN  \n",
       "1                NaN               NaN  \n",
       "2                NaN               NaN  \n",
       "3                NaN               NaN  \n",
       "4                NaN               NaN  \n",
       "...              ...               ...  \n",
       "73246      83.542109         51.038578  \n",
       "73247      83.545800         42.875988  \n",
       "73248      83.549491         50.121063  \n",
       "73249      83.553182         65.105385  \n",
       "73250      83.556873         61.424020  \n",
       "\n",
       "[68610 rows x 12 columns]"
      ]
     },
     "execution_count": 251,
     "metadata": {},
     "output_type": "execute_result"
    }
   ],
   "source": [
    "df_viz"
   ]
  },
  {
   "cell_type": "code",
   "execution_count": 250,
   "id": "fe8db90d-6ae1-4495-ac37-7c0b0d884300",
   "metadata": {},
   "outputs": [
    {
     "data": {
      "application/vnd.plotly.v1+json": {
       "config": {
        "displayModeBar": false,
        "plotlyServerURL": "https://plot.ly"
       },
       "data": [
        {
         "colorscale": [
          [
           0,
           "#3A27AE"
          ],
          [
           0.49,
           "#8DE9F0"
          ],
          [
           0.51,
           "#F4F267"
          ],
          [
           1,
           "#F27762"
          ]
         ],
         "type": "heatmap",
         "x": [
          "CO2_emission"
         ],
         "xgap": 1,
         "y": [
          "CO2_emission"
         ],
         "ygap": 1,
         "z": [
          [
           null
          ]
         ],
         "zmax": 1,
         "zmin": -1
        }
       ],
       "layout": {
        "height": 600,
        "template": {
         "data": {
          "bar": [
           {
            "error_x": {
             "color": "#2a3f5f"
            },
            "error_y": {
             "color": "#2a3f5f"
            },
            "marker": {
             "line": {
              "color": "white",
              "width": 0.5
             },
             "pattern": {
              "fillmode": "overlay",
              "size": 10,
              "solidity": 0.2
             }
            },
            "type": "bar"
           }
          ],
          "barpolar": [
           {
            "marker": {
             "line": {
              "color": "white",
              "width": 0.5
             },
             "pattern": {
              "fillmode": "overlay",
              "size": 10,
              "solidity": 0.2
             }
            },
            "type": "barpolar"
           }
          ],
          "carpet": [
           {
            "aaxis": {
             "endlinecolor": "#2a3f5f",
             "gridcolor": "#C8D4E3",
             "linecolor": "#C8D4E3",
             "minorgridcolor": "#C8D4E3",
             "startlinecolor": "#2a3f5f"
            },
            "baxis": {
             "endlinecolor": "#2a3f5f",
             "gridcolor": "#C8D4E3",
             "linecolor": "#C8D4E3",
             "minorgridcolor": "#C8D4E3",
             "startlinecolor": "#2a3f5f"
            },
            "type": "carpet"
           }
          ],
          "choropleth": [
           {
            "colorbar": {
             "outlinewidth": 0,
             "ticks": ""
            },
            "type": "choropleth"
           }
          ],
          "contour": [
           {
            "colorbar": {
             "outlinewidth": 0,
             "ticks": ""
            },
            "colorscale": [
             [
              0,
              "#0d0887"
             ],
             [
              0.1111111111111111,
              "#46039f"
             ],
             [
              0.2222222222222222,
              "#7201a8"
             ],
             [
              0.3333333333333333,
              "#9c179e"
             ],
             [
              0.4444444444444444,
              "#bd3786"
             ],
             [
              0.5555555555555556,
              "#d8576b"
             ],
             [
              0.6666666666666666,
              "#ed7953"
             ],
             [
              0.7777777777777778,
              "#fb9f3a"
             ],
             [
              0.8888888888888888,
              "#fdca26"
             ],
             [
              1,
              "#f0f921"
             ]
            ],
            "type": "contour"
           }
          ],
          "contourcarpet": [
           {
            "colorbar": {
             "outlinewidth": 0,
             "ticks": ""
            },
            "type": "contourcarpet"
           }
          ],
          "heatmap": [
           {
            "colorbar": {
             "outlinewidth": 0,
             "ticks": ""
            },
            "colorscale": [
             [
              0,
              "#0d0887"
             ],
             [
              0.1111111111111111,
              "#46039f"
             ],
             [
              0.2222222222222222,
              "#7201a8"
             ],
             [
              0.3333333333333333,
              "#9c179e"
             ],
             [
              0.4444444444444444,
              "#bd3786"
             ],
             [
              0.5555555555555556,
              "#d8576b"
             ],
             [
              0.6666666666666666,
              "#ed7953"
             ],
             [
              0.7777777777777778,
              "#fb9f3a"
             ],
             [
              0.8888888888888888,
              "#fdca26"
             ],
             [
              1,
              "#f0f921"
             ]
            ],
            "type": "heatmap"
           }
          ],
          "heatmapgl": [
           {
            "colorbar": {
             "outlinewidth": 0,
             "ticks": ""
            },
            "colorscale": [
             [
              0,
              "#0d0887"
             ],
             [
              0.1111111111111111,
              "#46039f"
             ],
             [
              0.2222222222222222,
              "#7201a8"
             ],
             [
              0.3333333333333333,
              "#9c179e"
             ],
             [
              0.4444444444444444,
              "#bd3786"
             ],
             [
              0.5555555555555556,
              "#d8576b"
             ],
             [
              0.6666666666666666,
              "#ed7953"
             ],
             [
              0.7777777777777778,
              "#fb9f3a"
             ],
             [
              0.8888888888888888,
              "#fdca26"
             ],
             [
              1,
              "#f0f921"
             ]
            ],
            "type": "heatmapgl"
           }
          ],
          "histogram": [
           {
            "marker": {
             "pattern": {
              "fillmode": "overlay",
              "size": 10,
              "solidity": 0.2
             }
            },
            "type": "histogram"
           }
          ],
          "histogram2d": [
           {
            "colorbar": {
             "outlinewidth": 0,
             "ticks": ""
            },
            "colorscale": [
             [
              0,
              "#0d0887"
             ],
             [
              0.1111111111111111,
              "#46039f"
             ],
             [
              0.2222222222222222,
              "#7201a8"
             ],
             [
              0.3333333333333333,
              "#9c179e"
             ],
             [
              0.4444444444444444,
              "#bd3786"
             ],
             [
              0.5555555555555556,
              "#d8576b"
             ],
             [
              0.6666666666666666,
              "#ed7953"
             ],
             [
              0.7777777777777778,
              "#fb9f3a"
             ],
             [
              0.8888888888888888,
              "#fdca26"
             ],
             [
              1,
              "#f0f921"
             ]
            ],
            "type": "histogram2d"
           }
          ],
          "histogram2dcontour": [
           {
            "colorbar": {
             "outlinewidth": 0,
             "ticks": ""
            },
            "colorscale": [
             [
              0,
              "#0d0887"
             ],
             [
              0.1111111111111111,
              "#46039f"
             ],
             [
              0.2222222222222222,
              "#7201a8"
             ],
             [
              0.3333333333333333,
              "#9c179e"
             ],
             [
              0.4444444444444444,
              "#bd3786"
             ],
             [
              0.5555555555555556,
              "#d8576b"
             ],
             [
              0.6666666666666666,
              "#ed7953"
             ],
             [
              0.7777777777777778,
              "#fb9f3a"
             ],
             [
              0.8888888888888888,
              "#fdca26"
             ],
             [
              1,
              "#f0f921"
             ]
            ],
            "type": "histogram2dcontour"
           }
          ],
          "mesh3d": [
           {
            "colorbar": {
             "outlinewidth": 0,
             "ticks": ""
            },
            "type": "mesh3d"
           }
          ],
          "parcoords": [
           {
            "line": {
             "colorbar": {
              "outlinewidth": 0,
              "ticks": ""
             }
            },
            "type": "parcoords"
           }
          ],
          "pie": [
           {
            "automargin": true,
            "type": "pie"
           }
          ],
          "scatter": [
           {
            "fillpattern": {
             "fillmode": "overlay",
             "size": 10,
             "solidity": 0.2
            },
            "type": "scatter"
           }
          ],
          "scatter3d": [
           {
            "line": {
             "colorbar": {
              "outlinewidth": 0,
              "ticks": ""
             }
            },
            "marker": {
             "colorbar": {
              "outlinewidth": 0,
              "ticks": ""
             }
            },
            "type": "scatter3d"
           }
          ],
          "scattercarpet": [
           {
            "marker": {
             "colorbar": {
              "outlinewidth": 0,
              "ticks": ""
             }
            },
            "type": "scattercarpet"
           }
          ],
          "scattergeo": [
           {
            "marker": {
             "colorbar": {
              "outlinewidth": 0,
              "ticks": ""
             }
            },
            "type": "scattergeo"
           }
          ],
          "scattergl": [
           {
            "marker": {
             "colorbar": {
              "outlinewidth": 0,
              "ticks": ""
             }
            },
            "type": "scattergl"
           }
          ],
          "scattermapbox": [
           {
            "marker": {
             "colorbar": {
              "outlinewidth": 0,
              "ticks": ""
             }
            },
            "type": "scattermapbox"
           }
          ],
          "scatterpolar": [
           {
            "marker": {
             "colorbar": {
              "outlinewidth": 0,
              "ticks": ""
             }
            },
            "type": "scatterpolar"
           }
          ],
          "scatterpolargl": [
           {
            "marker": {
             "colorbar": {
              "outlinewidth": 0,
              "ticks": ""
             }
            },
            "type": "scatterpolargl"
           }
          ],
          "scatterternary": [
           {
            "marker": {
             "colorbar": {
              "outlinewidth": 0,
              "ticks": ""
             }
            },
            "type": "scatterternary"
           }
          ],
          "surface": [
           {
            "colorbar": {
             "outlinewidth": 0,
             "ticks": ""
            },
            "colorscale": [
             [
              0,
              "#0d0887"
             ],
             [
              0.1111111111111111,
              "#46039f"
             ],
             [
              0.2222222222222222,
              "#7201a8"
             ],
             [
              0.3333333333333333,
              "#9c179e"
             ],
             [
              0.4444444444444444,
              "#bd3786"
             ],
             [
              0.5555555555555556,
              "#d8576b"
             ],
             [
              0.6666666666666666,
              "#ed7953"
             ],
             [
              0.7777777777777778,
              "#fb9f3a"
             ],
             [
              0.8888888888888888,
              "#fdca26"
             ],
             [
              1,
              "#f0f921"
             ]
            ],
            "type": "surface"
           }
          ],
          "table": [
           {
            "cells": {
             "fill": {
              "color": "#EBF0F8"
             },
             "line": {
              "color": "white"
             }
            },
            "header": {
             "fill": {
              "color": "#C8D4E3"
             },
             "line": {
              "color": "white"
             }
            },
            "type": "table"
           }
          ]
         },
         "layout": {
          "annotationdefaults": {
           "arrowcolor": "#2a3f5f",
           "arrowhead": 0,
           "arrowwidth": 1
          },
          "autotypenumbers": "strict",
          "coloraxis": {
           "colorbar": {
            "outlinewidth": 0,
            "ticks": ""
           }
          },
          "colorscale": {
           "diverging": [
            [
             0,
             "#8e0152"
            ],
            [
             0.1,
             "#c51b7d"
            ],
            [
             0.2,
             "#de77ae"
            ],
            [
             0.3,
             "#f1b6da"
            ],
            [
             0.4,
             "#fde0ef"
            ],
            [
             0.5,
             "#f7f7f7"
            ],
            [
             0.6,
             "#e6f5d0"
            ],
            [
             0.7,
             "#b8e186"
            ],
            [
             0.8,
             "#7fbc41"
            ],
            [
             0.9,
             "#4d9221"
            ],
            [
             1,
             "#276419"
            ]
           ],
           "sequential": [
            [
             0,
             "#0d0887"
            ],
            [
             0.1111111111111111,
             "#46039f"
            ],
            [
             0.2222222222222222,
             "#7201a8"
            ],
            [
             0.3333333333333333,
             "#9c179e"
            ],
            [
             0.4444444444444444,
             "#bd3786"
            ],
            [
             0.5555555555555556,
             "#d8576b"
            ],
            [
             0.6666666666666666,
             "#ed7953"
            ],
            [
             0.7777777777777778,
             "#fb9f3a"
            ],
            [
             0.8888888888888888,
             "#fdca26"
            ],
            [
             1,
             "#f0f921"
            ]
           ],
           "sequentialminus": [
            [
             0,
             "#0d0887"
            ],
            [
             0.1111111111111111,
             "#46039f"
            ],
            [
             0.2222222222222222,
             "#7201a8"
            ],
            [
             0.3333333333333333,
             "#9c179e"
            ],
            [
             0.4444444444444444,
             "#bd3786"
            ],
            [
             0.5555555555555556,
             "#d8576b"
            ],
            [
             0.6666666666666666,
             "#ed7953"
            ],
            [
             0.7777777777777778,
             "#fb9f3a"
            ],
            [
             0.8888888888888888,
             "#fdca26"
            ],
            [
             1,
             "#f0f921"
            ]
           ]
          },
          "colorway": [
           "#636efa",
           "#EF553B",
           "#00cc96",
           "#ab63fa",
           "#FFA15A",
           "#19d3f3",
           "#FF6692",
           "#B6E880",
           "#FF97FF",
           "#FECB52"
          ],
          "font": {
           "color": "#2a3f5f"
          },
          "geo": {
           "bgcolor": "white",
           "lakecolor": "white",
           "landcolor": "white",
           "showlakes": true,
           "showland": true,
           "subunitcolor": "#C8D4E3"
          },
          "hoverlabel": {
           "align": "left"
          },
          "hovermode": "closest",
          "mapbox": {
           "style": "light"
          },
          "paper_bgcolor": "white",
          "plot_bgcolor": "white",
          "polar": {
           "angularaxis": {
            "gridcolor": "#EBF0F8",
            "linecolor": "#EBF0F8",
            "ticks": ""
           },
           "bgcolor": "white",
           "radialaxis": {
            "gridcolor": "#EBF0F8",
            "linecolor": "#EBF0F8",
            "ticks": ""
           }
          },
          "scene": {
           "xaxis": {
            "backgroundcolor": "white",
            "gridcolor": "#DFE8F3",
            "gridwidth": 2,
            "linecolor": "#EBF0F8",
            "showbackground": true,
            "ticks": "",
            "zerolinecolor": "#EBF0F8"
           },
           "yaxis": {
            "backgroundcolor": "white",
            "gridcolor": "#DFE8F3",
            "gridwidth": 2,
            "linecolor": "#EBF0F8",
            "showbackground": true,
            "ticks": "",
            "zerolinecolor": "#EBF0F8"
           },
           "zaxis": {
            "backgroundcolor": "white",
            "gridcolor": "#DFE8F3",
            "gridwidth": 2,
            "linecolor": "#EBF0F8",
            "showbackground": true,
            "ticks": "",
            "zerolinecolor": "#EBF0F8"
           }
          },
          "shapedefaults": {
           "line": {
            "color": "#2a3f5f"
           }
          },
          "ternary": {
           "aaxis": {
            "gridcolor": "#DFE8F3",
            "linecolor": "#A2B1C6",
            "ticks": ""
           },
           "baxis": {
            "gridcolor": "#DFE8F3",
            "linecolor": "#A2B1C6",
            "ticks": ""
           },
           "bgcolor": "white",
           "caxis": {
            "gridcolor": "#DFE8F3",
            "linecolor": "#A2B1C6",
            "ticks": ""
           }
          },
          "title": {
           "x": 0.05
          },
          "xaxis": {
           "automargin": true,
           "gridcolor": "#EBF0F8",
           "linecolor": "#EBF0F8",
           "ticks": "",
           "title": {
            "standoff": 15
           },
           "zerolinecolor": "#EBF0F8",
           "zerolinewidth": 2
          },
          "yaxis": {
           "automargin": true,
           "gridcolor": "#EBF0F8",
           "linecolor": "#EBF0F8",
           "ticks": "",
           "title": {
            "standoff": 15
           },
           "zerolinecolor": "#EBF0F8",
           "zerolinewidth": 2
          }
         }
        },
        "width": 600,
        "xaxis": {
         "autorange": true,
         "range": [
          -1,
          6
         ],
         "showgrid": false,
         "tickangle": -70,
         "ticktext": [
          "FDI",
          "Growth rate",
          "CO2 emission",
          "GDP",
          ""
         ],
         "tickvals": [
          0
         ],
         "type": "category"
        },
        "yaxis": {
         "autorange": "reversed",
         "range": [
          -1,
          4
         ],
         "showgrid": false,
         "ticktext": [
          "",
          "Growth rate",
          "CO2 emission",
          "GDP",
          "Renewable energy share"
         ],
         "tickvals": [
          0
         ],
         "type": "category"
        }
       }
      },
      "image/png": "[encoded data removed]",
      "text/html": [
       "<div>                            <div id=\"977a3592-07eb-4545-ae32-2626ca82deee\" class=\"plotly-graph-div\" style=\"height:600px; width:600px;\"></div>            <script type=\"text/javascript\">                require([\"plotly\"], function(Plotly) {                    window.PLOTLYENV=window.PLOTLYENV || {};                                    if (document.getElementById(\"977a3592-07eb-4545-ae32-2626ca82deee\")) {                    Plotly.newPlot(                        \"977a3592-07eb-4545-ae32-2626ca82deee\",                        [{\"colorscale\":[[0,\"#3A27AE\"],[0.49,\"#8DE9F0\"],[0.51,\"#F4F267\"],[1,\"#F27762\"]],\"x\":[\"CO2_emission\"],\"xgap\":1,\"y\":[\"CO2_emission\"],\"ygap\":1,\"z\":[[null]],\"zmax\":1,\"zmin\":-1,\"type\":\"heatmap\"}],                        {\"height\":600,\"width\":600,\"xaxis\":{\"showgrid\":false,\"tickangle\":-70,\"ticktext\":[\"FDI\",\"Growth rate\",\"CO2 emission\",\"GDP\",\"\"],\"tickvals\":[0]},\"yaxis\":{\"autorange\":\"reversed\",\"showgrid\":false,\"ticktext\":[\"\",\"Growth rate\",\"CO2 emission\",\"GDP\",\"Renewable energy share\"],\"tickvals\":[0]},\"template\":{\"data\":{\"histogram2dcontour\":[{\"type\":\"histogram2dcontour\",\"colorbar\":{\"outlinewidth\":0,\"ticks\":\"\"},\"colorscale\":[[0.0,\"#0d0887\"],[0.1111111111111111,\"#46039f\"],[0.2222222222222222,\"#7201a8\"],[0.3333333333333333,\"#9c179e\"],[0.4444444444444444,\"#bd3786\"],[0.5555555555555556,\"#d8576b\"],[0.6666666666666666,\"#ed7953\"],[0.7777777777777778,\"#fb9f3a\"],[0.8888888888888888,\"#fdca26\"],[1.0,\"#f0f921\"]]}],\"choropleth\":[{\"type\":\"choropleth\",\"colorbar\":{\"outlinewidth\":0,\"ticks\":\"\"}}],\"histogram2d\":[{\"type\":\"histogram2d\",\"colorbar\":{\"outlinewidth\":0,\"ticks\":\"\"},\"colorscale\":[[0.0,\"#0d0887\"],[0.1111111111111111,\"#46039f\"],[0.2222222222222222,\"#7201a8\"],[0.3333333333333333,\"#9c179e\"],[0.4444444444444444,\"#bd3786\"],[0.5555555555555556,\"#d8576b\"],[0.6666666666666666,\"#ed7953\"],[0.7777777777777778,\"#fb9f3a\"],[0.8888888888888888,\"#fdca26\"],[1.0,\"#f0f921\"]]}],\"heatmap\":[{\"type\":\"heatmap\",\"colorbar\":{\"outlinewidth\":0,\"ticks\":\"\"},\"colorscale\":[[0.0,\"#0d0887\"],[0.1111111111111111,\"#46039f\"],[0.2222222222222222,\"#7201a8\"],[0.3333333333333333,\"#9c179e\"],[0.4444444444444444,\"#bd3786\"],[0.5555555555555556,\"#d8576b\"],[0.6666666666666666,\"#ed7953\"],[0.7777777777777778,\"#fb9f3a\"],[0.8888888888888888,\"#fdca26\"],[1.0,\"#f0f921\"]]}],\"heatmapgl\":[{\"type\":\"heatmapgl\",\"colorbar\":{\"outlinewidth\":0,\"ticks\":\"\"},\"colorscale\":[[0.0,\"#0d0887\"],[0.1111111111111111,\"#46039f\"],[0.2222222222222222,\"#7201a8\"],[0.3333333333333333,\"#9c179e\"],[0.4444444444444444,\"#bd3786\"],[0.5555555555555556,\"#d8576b\"],[0.6666666666666666,\"#ed7953\"],[0.7777777777777778,\"#fb9f3a\"],[0.8888888888888888,\"#fdca26\"],[1.0,\"#f0f921\"]]}],\"contourcarpet\":[{\"type\":\"contourcarpet\",\"colorbar\":{\"outlinewidth\":0,\"ticks\":\"\"}}],\"contour\":[{\"type\":\"contour\",\"colorbar\":{\"outlinewidth\":0,\"ticks\":\"\"},\"colorscale\":[[0.0,\"#0d0887\"],[0.1111111111111111,\"#46039f\"],[0.2222222222222222,\"#7201a8\"],[0.3333333333333333,\"#9c179e\"],[0.4444444444444444,\"#bd3786\"],[0.5555555555555556,\"#d8576b\"],[0.6666666666666666,\"#ed7953\"],[0.7777777777777778,\"#fb9f3a\"],[0.8888888888888888,\"#fdca26\"],[1.0,\"#f0f921\"]]}],\"surface\":[{\"type\":\"surface\",\"colorbar\":{\"outlinewidth\":0,\"ticks\":\"\"},\"colorscale\":[[0.0,\"#0d0887\"],[0.1111111111111111,\"#46039f\"],[0.2222222222222222,\"#7201a8\"],[0.3333333333333333,\"#9c179e\"],[0.4444444444444444,\"#bd3786\"],[0.5555555555555556,\"#d8576b\"],[0.6666666666666666,\"#ed7953\"],[0.7777777777777778,\"#fb9f3a\"],[0.8888888888888888,\"#fdca26\"],[1.0,\"#f0f921\"]]}],\"mesh3d\":[{\"type\":\"mesh3d\",\"colorbar\":{\"outlinewidth\":0,\"ticks\":\"\"}}],\"scatter\":[{\"fillpattern\":{\"fillmode\":\"overlay\",\"size\":10,\"solidity\":0.2},\"type\":\"scatter\"}],\"parcoords\":[{\"type\":\"parcoords\",\"line\":{\"colorbar\":{\"outlinewidth\":0,\"ticks\":\"\"}}}],\"scatterpolargl\":[{\"type\":\"scatterpolargl\",\"marker\":{\"colorbar\":{\"outlinewidth\":0,\"ticks\":\"\"}}}],\"bar\":[{\"error_x\":{\"color\":\"#2a3f5f\"},\"error_y\":{\"color\":\"#2a3f5f\"},\"marker\":{\"line\":{\"color\":\"white\",\"width\":0.5},\"pattern\":{\"fillmode\":\"overlay\",\"size\":10,\"solidity\":0.2}},\"type\":\"bar\"}],\"scattergeo\":[{\"type\":\"scattergeo\",\"marker\":{\"colorbar\":{\"outlinewidth\":0,\"ticks\":\"\"}}}],\"scatterpolar\":[{\"type\":\"scatterpolar\",\"marker\":{\"colorbar\":{\"outlinewidth\":0,\"ticks\":\"\"}}}],\"histogram\":[{\"marker\":{\"pattern\":{\"fillmode\":\"overlay\",\"size\":10,\"solidity\":0.2}},\"type\":\"histogram\"}],\"scattergl\":[{\"type\":\"scattergl\",\"marker\":{\"colorbar\":{\"outlinewidth\":0,\"ticks\":\"\"}}}],\"scatter3d\":[{\"type\":\"scatter3d\",\"line\":{\"colorbar\":{\"outlinewidth\":0,\"ticks\":\"\"}},\"marker\":{\"colorbar\":{\"outlinewidth\":0,\"ticks\":\"\"}}}],\"scattermapbox\":[{\"type\":\"scattermapbox\",\"marker\":{\"colorbar\":{\"outlinewidth\":0,\"ticks\":\"\"}}}],\"scatterternary\":[{\"type\":\"scatterternary\",\"marker\":{\"colorbar\":{\"outlinewidth\":0,\"ticks\":\"\"}}}],\"scattercarpet\":[{\"type\":\"scattercarpet\",\"marker\":{\"colorbar\":{\"outlinewidth\":0,\"ticks\":\"\"}}}],\"carpet\":[{\"aaxis\":{\"endlinecolor\":\"#2a3f5f\",\"gridcolor\":\"#C8D4E3\",\"linecolor\":\"#C8D4E3\",\"minorgridcolor\":\"#C8D4E3\",\"startlinecolor\":\"#2a3f5f\"},\"baxis\":{\"endlinecolor\":\"#2a3f5f\",\"gridcolor\":\"#C8D4E3\",\"linecolor\":\"#C8D4E3\",\"minorgridcolor\":\"#C8D4E3\",\"startlinecolor\":\"#2a3f5f\"},\"type\":\"carpet\"}],\"table\":[{\"cells\":{\"fill\":{\"color\":\"#EBF0F8\"},\"line\":{\"color\":\"white\"}},\"header\":{\"fill\":{\"color\":\"#C8D4E3\"},\"line\":{\"color\":\"white\"}},\"type\":\"table\"}],\"barpolar\":[{\"marker\":{\"line\":{\"color\":\"white\",\"width\":0.5},\"pattern\":{\"fillmode\":\"overlay\",\"size\":10,\"solidity\":0.2}},\"type\":\"barpolar\"}],\"pie\":[{\"automargin\":true,\"type\":\"pie\"}]},\"layout\":{\"autotypenumbers\":\"strict\",\"colorway\":[\"#636efa\",\"#EF553B\",\"#00cc96\",\"#ab63fa\",\"#FFA15A\",\"#19d3f3\",\"#FF6692\",\"#B6E880\",\"#FF97FF\",\"#FECB52\"],\"font\":{\"color\":\"#2a3f5f\"},\"hovermode\":\"closest\",\"hoverlabel\":{\"align\":\"left\"},\"paper_bgcolor\":\"white\",\"plot_bgcolor\":\"white\",\"polar\":{\"bgcolor\":\"white\",\"angularaxis\":{\"gridcolor\":\"#EBF0F8\",\"linecolor\":\"#EBF0F8\",\"ticks\":\"\"},\"radialaxis\":{\"gridcolor\":\"#EBF0F8\",\"linecolor\":\"#EBF0F8\",\"ticks\":\"\"}},\"ternary\":{\"bgcolor\":\"white\",\"aaxis\":{\"gridcolor\":\"#DFE8F3\",\"linecolor\":\"#A2B1C6\",\"ticks\":\"\"},\"baxis\":{\"gridcolor\":\"#DFE8F3\",\"linecolor\":\"#A2B1C6\",\"ticks\":\"\"},\"caxis\":{\"gridcolor\":\"#DFE8F3\",\"linecolor\":\"#A2B1C6\",\"ticks\":\"\"}},\"coloraxis\":{\"colorbar\":{\"outlinewidth\":0,\"ticks\":\"\"}},\"colorscale\":{\"sequential\":[[0.0,\"#0d0887\"],[0.1111111111111111,\"#46039f\"],[0.2222222222222222,\"#7201a8\"],[0.3333333333333333,\"#9c179e\"],[0.4444444444444444,\"#bd3786\"],[0.5555555555555556,\"#d8576b\"],[0.6666666666666666,\"#ed7953\"],[0.7777777777777778,\"#fb9f3a\"],[0.8888888888888888,\"#fdca26\"],[1.0,\"#f0f921\"]],\"sequentialminus\":[[0.0,\"#0d0887\"],[0.1111111111111111,\"#46039f\"],[0.2222222222222222,\"#7201a8\"],[0.3333333333333333,\"#9c179e\"],[0.4444444444444444,\"#bd3786\"],[0.5555555555555556,\"#d8576b\"],[0.6666666666666666,\"#ed7953\"],[0.7777777777777778,\"#fb9f3a\"],[0.8888888888888888,\"#fdca26\"],[1.0,\"#f0f921\"]],\"diverging\":[[0,\"#8e0152\"],[0.1,\"#c51b7d\"],[0.2,\"#de77ae\"],[0.3,\"#f1b6da\"],[0.4,\"#fde0ef\"],[0.5,\"#f7f7f7\"],[0.6,\"#e6f5d0\"],[0.7,\"#b8e186\"],[0.8,\"#7fbc41\"],[0.9,\"#4d9221\"],[1,\"#276419\"]]},\"xaxis\":{\"gridcolor\":\"#EBF0F8\",\"linecolor\":\"#EBF0F8\",\"ticks\":\"\",\"title\":{\"standoff\":15},\"zerolinecolor\":\"#EBF0F8\",\"automargin\":true,\"zerolinewidth\":2},\"yaxis\":{\"gridcolor\":\"#EBF0F8\",\"linecolor\":\"#EBF0F8\",\"ticks\":\"\",\"title\":{\"standoff\":15},\"zerolinecolor\":\"#EBF0F8\",\"automargin\":true,\"zerolinewidth\":2},\"scene\":{\"xaxis\":{\"backgroundcolor\":\"white\",\"gridcolor\":\"#DFE8F3\",\"linecolor\":\"#EBF0F8\",\"showbackground\":true,\"ticks\":\"\",\"zerolinecolor\":\"#EBF0F8\",\"gridwidth\":2},\"yaxis\":{\"backgroundcolor\":\"white\",\"gridcolor\":\"#DFE8F3\",\"linecolor\":\"#EBF0F8\",\"showbackground\":true,\"ticks\":\"\",\"zerolinecolor\":\"#EBF0F8\",\"gridwidth\":2},\"zaxis\":{\"backgroundcolor\":\"white\",\"gridcolor\":\"#DFE8F3\",\"linecolor\":\"#EBF0F8\",\"showbackground\":true,\"ticks\":\"\",\"zerolinecolor\":\"#EBF0F8\",\"gridwidth\":2}},\"shapedefaults\":{\"line\":{\"color\":\"#2a3f5f\"}},\"annotationdefaults\":{\"arrowcolor\":\"#2a3f5f\",\"arrowhead\":0,\"arrowwidth\":1},\"geo\":{\"bgcolor\":\"white\",\"landcolor\":\"white\",\"subunitcolor\":\"#C8D4E3\",\"showland\":true,\"showlakes\":true,\"lakecolor\":\"white\"},\"title\":{\"x\":0.05},\"mapbox\":{\"style\":\"light\"}}}},                        {\"displayModeBar\": false, \"responsive\": true}                    ).then(function(){\n",
       "                            \n",
       "var gd = document.getElementById('977a3592-07eb-4545-ae32-2626ca82deee');\n",
       "var x = new MutationObserver(function (mutations, observer) {{\n",
       "        var display = window.getComputedStyle(gd).display;\n",
       "        if (!display || display === 'none') {{\n",
       "            console.log([gd, 'removed!']);\n",
       "            Plotly.purge(gd);\n",
       "            observer.disconnect();\n",
       "        }}\n",
       "}});\n",
       "\n",
       "// Listen for the removal of the full notebook cells\n",
       "var notebookContainer = gd.closest('#notebook-container');\n",
       "if (notebookContainer) {{\n",
       "    x.observe(notebookContainer, {childList: true});\n",
       "}}\n",
       "\n",
       "// Listen for the clearing of the current output cell\n",
       "var outputEl = gd.closest('.output');\n",
       "if (outputEl) {{\n",
       "    x.observe(outputEl, {childList: true});\n",
       "}}\n",
       "\n",
       "                        })                };                });            </script>        </div>"
      ]
     },
     "metadata": {},
     "output_type": "display_data"
    }
   ],
   "source": [
    "def corr_heatmap(corr, period):\n",
    "    custom_colorscale = [\n",
    "    [0, '#3A27AE'],\n",
    "    [0.49, '#8DE9F0'], \n",
    "    [0.51, '#F4F267'],\n",
    "    [1, '#F27762']]\n",
    "    \n",
    "    nan_perc = NaN_percentage(corr)\n",
    "    keep_index = nan_perc[nan_perc.iloc[:,1]<=0.3].index[2:]\n",
    "    corr = corr.loc[:,keep_index].dropna()\n",
    "    corr_matrix  = corr.corr() # Compute pairwise correlation of columns, excluding NA/null values.\n",
    "    mask = np.triu(np.ones_like(corr_matrix, dtype=bool))\n",
    "    corr_matr_viz = corr_matrix.mask(mask)\n",
    "    pio.templates.default = \"plotly_white\"\n",
    "\n",
    "    heat = go.Heatmap(\n",
    "        z = corr_matr_viz,\n",
    "        x = corr_matr_viz.columns.values,\n",
    "        y = corr_matr_viz.columns.values,\n",
    "        zmin = - 1, # Sets the lower bound of the color domain\n",
    "        zmax = 1,\n",
    "        xgap = 1, # Sets the horizontal gap (in pixels) between bricks\n",
    "        ygap = 1,\n",
    "        colorscale = custom_colorscale #'thermal'\n",
    "    )\n",
    "    if period ==1:\n",
    "        x_dict = dict(\n",
    "                ticktext= ['FDI', 'Growth rate', 'CO2 emission', 'GDP', ''],\n",
    "                tickvals=list(range(len(corr_matr_viz.columns))))\n",
    "\n",
    "        y_dict = dict(\n",
    "                ticktext= ['', 'Growth rate', 'CO2 emission', 'GDP',\n",
    "           'Renewable energy share'],\n",
    "                tickvals=list(range(len(corr_matr_viz.columns))))\n",
    "    elif period == 2:\n",
    "        x_dict = dict(\n",
    "                ticktext= ['FDI', 'Growth rate', 'CO2 emission', 'GDP', 'Mortality rate','Air pollution',''],\n",
    "                tickvals=list(range(len(corr_matr_viz.columns))))\n",
    "\n",
    "        y_dict = dict(\n",
    "                ticktext= ['', 'Growth rate', 'CO2 emission', 'GDP','Mortality rate','Air pollution','Renewable energy'],\n",
    "                tickvals=list(range(len(corr_matr_viz.columns))))\n",
    "    elif period == 3:\n",
    "        x_dict = dict(\n",
    "                ticktext= ['Revenue','FDI', 'Growth rate', 'CO2 emission', 'GDP', 'Mortality rate','Air pollution',''],\n",
    "                tickvals=list(range(len(corr_matr_viz.columns))))\n",
    "\n",
    "        y_dict = dict(\n",
    "                ticktext= ['', 'FDI', 'Growth rate', 'CO2 emission', 'GDP','Mortality rate','Air pollution','Renewable energy'],\n",
    "                tickvals=list(range(len(corr_matr_viz.columns))))      \n",
    "    elif period == 4:\n",
    "        x_dict = dict(\n",
    "                ticktext= ['Revenue','FDI', 'Growth rate', 'CO2 emission', 'GDP', 'Mortality rate','Air pollution',''],\n",
    "                tickvals=list(range(len(corr_matr_viz.columns))))\n",
    "\n",
    "        y_dict = dict(\n",
    "                ticktext= ['', 'FDI', 'Growth rate', 'CO2 emission', 'GDP','Mortality rate','Air pollution','Renewable energy'],\n",
    "                tickvals=list(range(len(corr_matr_viz.columns))))         \n",
    "    else:\n",
    "        print('Error, no valid Period')\n",
    "\n",
    "    layout = go.Layout(\n",
    "        width=600, \n",
    "        height=600,\n",
    "        xaxis_showgrid=False,\n",
    "        yaxis_showgrid=False,\n",
    "        yaxis_autorange='reversed',\n",
    "        xaxis_tickangle= -70,\n",
    "        xaxis= x_dict, \n",
    "        yaxis = y_dict)\n",
    "\n",
    "    fig=go.Figure(data=[heat], layout=layout)\n",
    "    config = {'displayModeBar': False}\n",
    "\n",
    "    # display the figure with the config object\n",
    "    fig.show(config=config)\n",
    "    \n",
    "    #fig.write_html(datafolder+\"heatmap2.html\", config=config)\n",
    "    #plotly.offline.plot(fig, filename='file.html')\n",
    "    offline.plot(fig,  include_plotlyjs=False, output_type='div')\n",
    "    return corr_matr_viz, x_dict, y_dict\n",
    "    \n",
    "corr_matr_viz, x_dict, y_dict = corr_heatmap(df_viz, period) # To change depending on plot"
   ]
  },
  {
   "cell_type": "code",
   "execution_count": 248,
   "id": "0a40c2a0-399c-4dd5-90d8-6859097fd134",
   "metadata": {},
   "outputs": [
    {
     "ename": "ValueError",
     "evalue": "Length mismatch: Expected axis has 6 elements, new values have 8 elements",
     "output_type": "error",
     "traceback": [
      "\u001b[1;31m---------------------------------------------------------------------------\u001b[0m",
      "\u001b[1;31mValueError\u001b[0m                                Traceback (most recent call last)",
      "Input \u001b[1;32mIn [248]\u001b[0m, in \u001b[0;36m<cell line: 1>\u001b[1;34m()\u001b[0m\n\u001b[1;32m----> 1\u001b[0m corr_matr_viz\u001b[38;5;241m.\u001b[39mcolumns \u001b[38;5;241m=\u001b[39m x_dict[\u001b[38;5;124m'\u001b[39m\u001b[38;5;124mticktext\u001b[39m\u001b[38;5;124m'\u001b[39m]\n\u001b[0;32m      2\u001b[0m corr_matr_viz\u001b[38;5;241m.\u001b[39mindex \u001b[38;5;241m=\u001b[39m y_dict[\u001b[38;5;124m'\u001b[39m\u001b[38;5;124mticktext\u001b[39m\u001b[38;5;124m'\u001b[39m]\n",
      "File \u001b[1;32m~\\Programme\\lib\\site-packages\\pandas\\core\\generic.py:5588\u001b[0m, in \u001b[0;36mNDFrame.__setattr__\u001b[1;34m(self, name, value)\u001b[0m\n\u001b[0;32m   5586\u001b[0m \u001b[38;5;28;01mtry\u001b[39;00m:\n\u001b[0;32m   5587\u001b[0m     \u001b[38;5;28mobject\u001b[39m\u001b[38;5;241m.\u001b[39m\u001b[38;5;21m__getattribute__\u001b[39m(\u001b[38;5;28mself\u001b[39m, name)\n\u001b[1;32m-> 5588\u001b[0m     \u001b[38;5;28;01mreturn\u001b[39;00m \u001b[38;5;28;43mobject\u001b[39;49m\u001b[38;5;241;43m.\u001b[39;49m\u001b[38;5;21;43m__setattr__\u001b[39;49m\u001b[43m(\u001b[49m\u001b[38;5;28;43mself\u001b[39;49m\u001b[43m,\u001b[49m\u001b[43m \u001b[49m\u001b[43mname\u001b[49m\u001b[43m,\u001b[49m\u001b[43m \u001b[49m\u001b[43mvalue\u001b[49m\u001b[43m)\u001b[49m\n\u001b[0;32m   5589\u001b[0m \u001b[38;5;28;01mexcept\u001b[39;00m \u001b[38;5;167;01mAttributeError\u001b[39;00m:\n\u001b[0;32m   5590\u001b[0m     \u001b[38;5;28;01mpass\u001b[39;00m\n",
      "File \u001b[1;32m~\\Programme\\lib\\site-packages\\pandas\\_libs\\properties.pyx:70\u001b[0m, in \u001b[0;36mpandas._libs.properties.AxisProperty.__set__\u001b[1;34m()\u001b[0m\n",
      "File \u001b[1;32m~\\Programme\\lib\\site-packages\\pandas\\core\\generic.py:769\u001b[0m, in \u001b[0;36mNDFrame._set_axis\u001b[1;34m(self, axis, labels)\u001b[0m\n\u001b[0;32m    767\u001b[0m \u001b[38;5;28;01mdef\u001b[39;00m \u001b[38;5;21m_set_axis\u001b[39m(\u001b[38;5;28mself\u001b[39m, axis: \u001b[38;5;28mint\u001b[39m, labels: Index) \u001b[38;5;241m-\u001b[39m\u001b[38;5;241m>\u001b[39m \u001b[38;5;28;01mNone\u001b[39;00m:\n\u001b[0;32m    768\u001b[0m     labels \u001b[38;5;241m=\u001b[39m ensure_index(labels)\n\u001b[1;32m--> 769\u001b[0m     \u001b[38;5;28;43mself\u001b[39;49m\u001b[38;5;241;43m.\u001b[39;49m\u001b[43m_mgr\u001b[49m\u001b[38;5;241;43m.\u001b[39;49m\u001b[43mset_axis\u001b[49m\u001b[43m(\u001b[49m\u001b[43maxis\u001b[49m\u001b[43m,\u001b[49m\u001b[43m \u001b[49m\u001b[43mlabels\u001b[49m\u001b[43m)\u001b[49m\n\u001b[0;32m    770\u001b[0m     \u001b[38;5;28mself\u001b[39m\u001b[38;5;241m.\u001b[39m_clear_item_cache()\n",
      "File \u001b[1;32m~\\Programme\\lib\\site-packages\\pandas\\core\\internals\\managers.py:214\u001b[0m, in \u001b[0;36mBaseBlockManager.set_axis\u001b[1;34m(self, axis, new_labels)\u001b[0m\n\u001b[0;32m    212\u001b[0m \u001b[38;5;28;01mdef\u001b[39;00m \u001b[38;5;21mset_axis\u001b[39m(\u001b[38;5;28mself\u001b[39m, axis: \u001b[38;5;28mint\u001b[39m, new_labels: Index) \u001b[38;5;241m-\u001b[39m\u001b[38;5;241m>\u001b[39m \u001b[38;5;28;01mNone\u001b[39;00m:\n\u001b[0;32m    213\u001b[0m     \u001b[38;5;66;03m# Caller is responsible for ensuring we have an Index object.\u001b[39;00m\n\u001b[1;32m--> 214\u001b[0m     \u001b[38;5;28;43mself\u001b[39;49m\u001b[38;5;241;43m.\u001b[39;49m\u001b[43m_validate_set_axis\u001b[49m\u001b[43m(\u001b[49m\u001b[43maxis\u001b[49m\u001b[43m,\u001b[49m\u001b[43m \u001b[49m\u001b[43mnew_labels\u001b[49m\u001b[43m)\u001b[49m\n\u001b[0;32m    215\u001b[0m     \u001b[38;5;28mself\u001b[39m\u001b[38;5;241m.\u001b[39maxes[axis] \u001b[38;5;241m=\u001b[39m new_labels\n",
      "File \u001b[1;32m~\\Programme\\lib\\site-packages\\pandas\\core\\internals\\base.py:69\u001b[0m, in \u001b[0;36mDataManager._validate_set_axis\u001b[1;34m(self, axis, new_labels)\u001b[0m\n\u001b[0;32m     66\u001b[0m     \u001b[38;5;28;01mpass\u001b[39;00m\n\u001b[0;32m     68\u001b[0m \u001b[38;5;28;01melif\u001b[39;00m new_len \u001b[38;5;241m!=\u001b[39m old_len:\n\u001b[1;32m---> 69\u001b[0m     \u001b[38;5;28;01mraise\u001b[39;00m \u001b[38;5;167;01mValueError\u001b[39;00m(\n\u001b[0;32m     70\u001b[0m         \u001b[38;5;124mf\u001b[39m\u001b[38;5;124m\"\u001b[39m\u001b[38;5;124mLength mismatch: Expected axis has \u001b[39m\u001b[38;5;132;01m{\u001b[39;00mold_len\u001b[38;5;132;01m}\u001b[39;00m\u001b[38;5;124m elements, new \u001b[39m\u001b[38;5;124m\"\u001b[39m\n\u001b[0;32m     71\u001b[0m         \u001b[38;5;124mf\u001b[39m\u001b[38;5;124m\"\u001b[39m\u001b[38;5;124mvalues have \u001b[39m\u001b[38;5;132;01m{\u001b[39;00mnew_len\u001b[38;5;132;01m}\u001b[39;00m\u001b[38;5;124m elements\u001b[39m\u001b[38;5;124m\"\u001b[39m\n\u001b[0;32m     72\u001b[0m     )\n",
      "\u001b[1;31mValueError\u001b[0m: Length mismatch: Expected axis has 6 elements, new values have 8 elements"
     ]
    }
   ],
   "source": [
    "corr_matr_viz.columns = x_dict['ticktext']\n",
    "corr_matr_viz.index = y_dict['ticktext']"
   ]
  },
  {
   "cell_type": "code",
   "execution_count": 46,
   "id": "45f05713-b6fc-41a5-b3f8-99203aca95b5",
   "metadata": {},
   "outputs": [
    {
     "data": {
      "text/html": [
       "<div>\n",
       "<style scoped>\n",
       "    .dataframe tbody tr th:only-of-type {\n",
       "        vertical-align: middle;\n",
       "    }\n",
       "\n",
       "    .dataframe tbody tr th {\n",
       "        vertical-align: top;\n",
       "    }\n",
       "\n",
       "    .dataframe thead th {\n",
       "        text-align: right;\n",
       "    }\n",
       "</style>\n",
       "<table border=\"1\" class=\"dataframe\">\n",
       "  <thead>\n",
       "    <tr style=\"text-align: right;\">\n",
       "      <th></th>\n",
       "      <th>Revenue</th>\n",
       "      <th>FDI</th>\n",
       "      <th>Growth rate</th>\n",
       "      <th>CO2 emission</th>\n",
       "      <th>GDP</th>\n",
       "      <th>Mortality rate</th>\n",
       "      <th>Air pollution</th>\n",
       "      <th></th>\n",
       "    </tr>\n",
       "  </thead>\n",
       "  <tbody>\n",
       "    <tr>\n",
       "      <th></th>\n",
       "      <td>NaN</td>\n",
       "      <td>NaN</td>\n",
       "      <td>NaN</td>\n",
       "      <td>NaN</td>\n",
       "      <td>NaN</td>\n",
       "      <td>NaN</td>\n",
       "      <td>NaN</td>\n",
       "      <td>NaN</td>\n",
       "    </tr>\n",
       "    <tr>\n",
       "      <th>FDI</th>\n",
       "      <td>0.053130</td>\n",
       "      <td>NaN</td>\n",
       "      <td>NaN</td>\n",
       "      <td>NaN</td>\n",
       "      <td>NaN</td>\n",
       "      <td>NaN</td>\n",
       "      <td>NaN</td>\n",
       "      <td>NaN</td>\n",
       "    </tr>\n",
       "    <tr>\n",
       "      <th>Growth rate</th>\n",
       "      <td>0.002213</td>\n",
       "      <td>0.077261</td>\n",
       "      <td>NaN</td>\n",
       "      <td>NaN</td>\n",
       "      <td>NaN</td>\n",
       "      <td>NaN</td>\n",
       "      <td>NaN</td>\n",
       "      <td>NaN</td>\n",
       "    </tr>\n",
       "    <tr>\n",
       "      <th>CO2 emission</th>\n",
       "      <td>-0.016778</td>\n",
       "      <td>0.578636</td>\n",
       "      <td>0.084888</td>\n",
       "      <td>NaN</td>\n",
       "      <td>NaN</td>\n",
       "      <td>NaN</td>\n",
       "      <td>NaN</td>\n",
       "      <td>NaN</td>\n",
       "    </tr>\n",
       "    <tr>\n",
       "      <th>GDP</th>\n",
       "      <td>0.063355</td>\n",
       "      <td>0.631372</td>\n",
       "      <td>0.073640</td>\n",
       "      <td>0.937594</td>\n",
       "      <td>NaN</td>\n",
       "      <td>NaN</td>\n",
       "      <td>NaN</td>\n",
       "      <td>NaN</td>\n",
       "    </tr>\n",
       "    <tr>\n",
       "      <th>Mortality rate</th>\n",
       "      <td>-0.030364</td>\n",
       "      <td>-0.268463</td>\n",
       "      <td>0.015455</td>\n",
       "      <td>-0.069783</td>\n",
       "      <td>-0.188639</td>\n",
       "      <td>NaN</td>\n",
       "      <td>NaN</td>\n",
       "      <td>NaN</td>\n",
       "    </tr>\n",
       "    <tr>\n",
       "      <th>Air pollution</th>\n",
       "      <td>-0.257195</td>\n",
       "      <td>-0.170872</td>\n",
       "      <td>-0.025501</td>\n",
       "      <td>0.018557</td>\n",
       "      <td>-0.066254</td>\n",
       "      <td>0.415267</td>\n",
       "      <td>NaN</td>\n",
       "      <td>NaN</td>\n",
       "    </tr>\n",
       "    <tr>\n",
       "      <th>Renewable energy</th>\n",
       "      <td>-0.061372</td>\n",
       "      <td>-0.080014</td>\n",
       "      <td>0.046828</td>\n",
       "      <td>-0.076631</td>\n",
       "      <td>-0.065863</td>\n",
       "      <td>-0.015529</td>\n",
       "      <td>-0.198945</td>\n",
       "      <td>NaN</td>\n",
       "    </tr>\n",
       "  </tbody>\n",
       "</table>\n",
       "</div>"
      ],
      "text/plain": [
       "                   Revenue       FDI  Growth rate  CO2 emission       GDP  \\\n",
       "                       NaN       NaN          NaN           NaN       NaN   \n",
       "FDI               0.053130       NaN          NaN           NaN       NaN   \n",
       "Growth rate       0.002213  0.077261          NaN           NaN       NaN   \n",
       "CO2 emission     -0.016778  0.578636     0.084888           NaN       NaN   \n",
       "GDP               0.063355  0.631372     0.073640      0.937594       NaN   \n",
       "Mortality rate   -0.030364 -0.268463     0.015455     -0.069783 -0.188639   \n",
       "Air pollution    -0.257195 -0.170872    -0.025501      0.018557 -0.066254   \n",
       "Renewable energy -0.061372 -0.080014     0.046828     -0.076631 -0.065863   \n",
       "\n",
       "                  Mortality rate  Air pollution      \n",
       "                             NaN            NaN NaN  \n",
       "FDI                          NaN            NaN NaN  \n",
       "Growth rate                  NaN            NaN NaN  \n",
       "CO2 emission                 NaN            NaN NaN  \n",
       "GDP                          NaN            NaN NaN  \n",
       "Mortality rate               NaN            NaN NaN  \n",
       "Air pollution           0.415267            NaN NaN  \n",
       "Renewable energy       -0.015529      -0.198945 NaN  "
      ]
     },
     "execution_count": 46,
     "metadata": {},
     "output_type": "execute_result"
    }
   ],
   "source": [
    "corr_matr_viz"
   ]
  },
  {
   "cell_type": "code",
   "execution_count": 47,
   "id": "9da1c646-074e-49f1-af5b-dec3303ad5a6",
   "metadata": {},
   "outputs": [],
   "source": [
    "viz_df = corr_matr_viz.reset_index().melt(id_vars=['index'], var_name='x_axis', value_name='value')\n",
    "\n",
    "# swap columns\n",
    "viz_df.iloc[:, [1, 0]] = viz_df.iloc[:, [0, 1]].values\n",
    "viz_df = viz_df.rename(columns={\"index\":\"y_axis\"})"
   ]
  },
  {
   "cell_type": "code",
   "execution_count": 48,
   "id": "4c421374-57dc-411c-a083-cdfa07ca17fd",
   "metadata": {},
   "outputs": [
    {
     "data": {
      "text/html": [
       "<div>\n",
       "<style scoped>\n",
       "    .dataframe tbody tr th:only-of-type {\n",
       "        vertical-align: middle;\n",
       "    }\n",
       "\n",
       "    .dataframe tbody tr th {\n",
       "        vertical-align: top;\n",
       "    }\n",
       "\n",
       "    .dataframe thead th {\n",
       "        text-align: right;\n",
       "    }\n",
       "</style>\n",
       "<table border=\"1\" class=\"dataframe\">\n",
       "  <thead>\n",
       "    <tr style=\"text-align: right;\">\n",
       "      <th></th>\n",
       "      <th>y_axis</th>\n",
       "      <th>x_axis</th>\n",
       "      <th>value</th>\n",
       "    </tr>\n",
       "  </thead>\n",
       "  <tbody>\n",
       "    <tr>\n",
       "      <th>0</th>\n",
       "      <td>Revenue</td>\n",
       "      <td></td>\n",
       "      <td>NaN</td>\n",
       "    </tr>\n",
       "    <tr>\n",
       "      <th>1</th>\n",
       "      <td>Revenue</td>\n",
       "      <td>FDI</td>\n",
       "      <td>0.053130</td>\n",
       "    </tr>\n",
       "    <tr>\n",
       "      <th>2</th>\n",
       "      <td>Revenue</td>\n",
       "      <td>Growth rate</td>\n",
       "      <td>0.002213</td>\n",
       "    </tr>\n",
       "    <tr>\n",
       "      <th>3</th>\n",
       "      <td>Revenue</td>\n",
       "      <td>CO2 emission</td>\n",
       "      <td>-0.016778</td>\n",
       "    </tr>\n",
       "    <tr>\n",
       "      <th>4</th>\n",
       "      <td>Revenue</td>\n",
       "      <td>GDP</td>\n",
       "      <td>0.063355</td>\n",
       "    </tr>\n",
       "    <tr>\n",
       "      <th>...</th>\n",
       "      <td>...</td>\n",
       "      <td>...</td>\n",
       "      <td>...</td>\n",
       "    </tr>\n",
       "    <tr>\n",
       "      <th>59</th>\n",
       "      <td></td>\n",
       "      <td>CO2 emission</td>\n",
       "      <td>NaN</td>\n",
       "    </tr>\n",
       "    <tr>\n",
       "      <th>60</th>\n",
       "      <td></td>\n",
       "      <td>GDP</td>\n",
       "      <td>NaN</td>\n",
       "    </tr>\n",
       "    <tr>\n",
       "      <th>61</th>\n",
       "      <td></td>\n",
       "      <td>Mortality rate</td>\n",
       "      <td>NaN</td>\n",
       "    </tr>\n",
       "    <tr>\n",
       "      <th>62</th>\n",
       "      <td></td>\n",
       "      <td>Air pollution</td>\n",
       "      <td>NaN</td>\n",
       "    </tr>\n",
       "    <tr>\n",
       "      <th>63</th>\n",
       "      <td></td>\n",
       "      <td>Renewable energy</td>\n",
       "      <td>NaN</td>\n",
       "    </tr>\n",
       "  </tbody>\n",
       "</table>\n",
       "<p>64 rows × 3 columns</p>\n",
       "</div>"
      ],
      "text/plain": [
       "     y_axis            x_axis     value\n",
       "0   Revenue                         NaN\n",
       "1   Revenue               FDI  0.053130\n",
       "2   Revenue       Growth rate  0.002213\n",
       "3   Revenue      CO2 emission -0.016778\n",
       "4   Revenue               GDP  0.063355\n",
       "..      ...               ...       ...\n",
       "59               CO2 emission       NaN\n",
       "60                        GDP       NaN\n",
       "61             Mortality rate       NaN\n",
       "62              Air pollution       NaN\n",
       "63           Renewable energy       NaN\n",
       "\n",
       "[64 rows x 3 columns]"
      ]
     },
     "execution_count": 48,
     "metadata": {},
     "output_type": "execute_result"
    }
   ],
   "source": [
    "viz_df"
   ]
  },
  {
   "cell_type": "code",
   "execution_count": 49,
   "id": "b511a73a-54aa-40d5-b7d2-535278c366f4",
   "metadata": {},
   "outputs": [],
   "source": [
    "viz_df.to_csv('viz_df.csv', index=False)"
   ]
  },
  {
   "cell_type": "code",
   "execution_count": null,
   "id": "6840b0aa-2520-406b-b3d3-1baeceb88783",
   "metadata": {},
   "outputs": [],
   "source": []
  }
 ],
 "metadata": {
  "kernelspec": {
   "display_name": "Python 3 (ipykernel)",
   "language": "python",
   "name": "python3"
  },
  "language_info": {
   "codemirror_mode": {
    "name": "ipython",
    "version": 3
   },
   "file_extension": ".py",
   "mimetype": "text/x-python",
   "name": "python",
   "nbconvert_exporter": "python",
   "pygments_lexer": "ipython3",
   "version": "3.9.12"
  }
 },
 "nbformat": 4,
 "nbformat_minor": 5
}
