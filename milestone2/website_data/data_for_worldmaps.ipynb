{
 "cells": [
  {
   "cell_type": "code",
   "execution_count": 1,
   "metadata": {},
   "outputs": [],
   "source": [
    "import pandas as pd\n",
    "import numpy as np\n",
    "import matplotlib.pyplot as plt\n",
    "import geojson\n",
    "import json"
   ]
  },
  {
   "attachments": {},
   "cell_type": "markdown",
   "metadata": {},
   "source": [
    "#### Load countries data and keep features with least number of NaNs"
   ]
  },
  {
   "cell_type": "code",
   "execution_count": 2,
   "metadata": {},
   "outputs": [],
   "source": [
    "country_data = pd.read_pickle(\"../../milestone1/data_final.pkl\")\n",
    "country_data_flt = country_data[['dt_year', 'country', 'Annual CO₂ emissions (zero filled)','PM2.5 air pollution, population exposed to levels exceeding WHO guideline value (% of total)', 'mortality_rate_perc', 'GDP (constant 2015 US$)','annual_growth_rate_perc', 'fdi_inflows_millionusd', 'total_government_revenue_proportion_of_gdp_perc']]\n",
    "country_data_flt = country_data_flt.rename(columns={\n",
    "    'dt_year': 'year',\n",
    "    'Annual CO₂ emissions (zero filled)': 'co2_emissions',\n",
    "    'PM2.5 air pollution, population exposed to levels exceeding WHO guideline value (% of total)': 'air_pollution',\n",
    "    'annual_growth_rate_perc': 'growth',\n",
    "    'fdi_inflows_millionusd': 'fdi',\n",
    "    'total_government_revenue_proportion_of_gdp_perc': 'revenue_proportion',\n",
    "    'mortality_rate_perc': 'mortality',\n",
    "    'GDP (constant 2015 US$)': 'gdp'\n",
    "})"
   ]
  },
  {
   "attachments": {},
   "cell_type": "markdown",
   "metadata": {},
   "source": [
    "#### Load geoJSON map data"
   ]
  },
  {
   "cell_type": "code",
   "execution_count": 3,
   "metadata": {},
   "outputs": [],
   "source": [
    "# load world map data\n",
    "with open('custom.geo.json') as geo:\n",
    "    gj = geojson.load(geo)\n",
    "features = gj['features']\n",
    "\n",
    "# keep only useful properties\n",
    "keep_properties = ['name','name_long','iso_a3','continent','label_x','label_y']\n",
    "\n",
    "for k in reversed(features):\n",
    "    properties = {}\n",
    "    for label in keep_properties:\n",
    "        if not np.isnan(k[\"properties\"][label]): \n",
    "            properties[label] = k[\"properties\"][label]\n",
    "    k[\"properties\"] = properties\n",
    "    "
   ]
  },
  {
   "attachments": {},
   "cell_type": "markdown",
   "metadata": {},
   "source": [
    "#### Change countries name to match geoJSON data"
   ]
  },
  {
   "cell_type": "code",
   "execution_count": 4,
   "metadata": {},
   "outputs": [],
   "source": [
    "oldNames = [\n",
    "    'Bolivia (Plurinational State of)',\n",
    "    'Bosnia and Herzegovina',\n",
    "    'Brunei Darussalam',\n",
    "    'Central African Republic',\n",
    "    'Democratic Republic of the Congo',\n",
    "    'Dominican Republic',\n",
    "    'Equatorial Guinea',\n",
    "    'Iran (Islamic Republic of)',\n",
    "    'Lao People\\'s Democratic Republic',\n",
    "    'Democratic People\\'s Republic of Korea',\n",
    "    'Republic of Moldova',\n",
    "    'Russian Federation',\n",
    "    'Solomon Islands',\n",
    "    'South Sudan',\n",
    "    'Republic of Korea',\n",
    "    'State of Palestine',\n",
    "    'Syrian Arab Republic',\n",
    "    'Türkiye',\n",
    "    'United Kingdom of Great Britain and Northern Ireland',\n",
    "    'United Republic of Tanzania',\n",
    "    'Venezuela (Bolivarian Republic of)',\n",
    "    'Viet Nam',\n",
    "    'ESwatini'\n",
    "]\n",
    "newNames = [\n",
    "    'Bolivia',\n",
    "    'Bosnia and Herz.',\n",
    "    'Brunei',\n",
    "    'Central African Rep.',\n",
    "    'Dem. Rep. Congo',\n",
    "    'Dominican Rep.',\n",
    "    'Eq. Guinea',\n",
    "    'Iran',\n",
    "    'Laos',\n",
    "    'North Korea',\n",
    "    'Moldova',\n",
    "    'Russia',\n",
    "    'Solomon Is.',\n",
    "    'S. Sudan',\n",
    "    'South Korea',\n",
    "    'Palestine',\n",
    "    'Syria',\n",
    "    'Turkey',\n",
    "    'United Kingdom',\n",
    "    'Tanzania',\n",
    "    'Venezuela',\n",
    "    'Vietnam',\n",
    "    'eSwatini'\n",
    "]\n",
    "\n",
    "df = country_data_flt.replace(oldNames,newNames)"
   ]
  },
  {
   "attachments": {},
   "cell_type": "markdown",
   "metadata": {},
   "source": [
    "#### Join data"
   ]
  },
  {
   "cell_type": "code",
   "execution_count": 5,
   "metadata": {},
   "outputs": [],
   "source": [
    "feats = ['co2_emissions',\n",
    "    'air_pollution',\n",
    "    'growth',\n",
    "    'fdi',\n",
    "    'revenue_proportion',\n",
    "    'mortality',\n",
    "    'gdp'\n",
    "]\n",
    "\n",
    "for f in feats:\n",
    "    for k in reversed(features):\n",
    "\n",
    "        country_name = k[\"properties\"][\"name\"]\n",
    "        #print(country_name)\n",
    "        country_data = df.loc[df['country'] == country_name]\n",
    "        if country_data.empty and f == 'Annual CO₂ emissions':\n",
    "            print(country_name)\n",
    "        else:\n",
    "            # create dict {year: emission}\n",
    "            emissions = dict(zip(country_data[\"year\"], country_data[f]))\n",
    "            k[\"properties\"][f] = emissions"
   ]
  },
  {
   "cell_type": "code",
   "execution_count": 6,
   "metadata": {},
   "outputs": [
    {
     "name": "stdout",
     "output_type": "stream",
     "text": [
      "### Countries in map but not in dataset:\n",
      "Falkland Is.\n",
      "N. Cyprus\n",
      "Taiwan\n",
      "Somaliland\n",
      "W. Sahara\n",
      "eSwatini\n",
      "\n",
      "### Countries in dataset but not in map:\n",
      "American Samoa\n",
      "Andorra\n",
      "Anguilla\n",
      "Antigua and Barbuda\n",
      "Aruba\n",
      "Bahrain\n",
      "Barbados\n",
      "Bermuda\n",
      "British Virgin Islands\n",
      "Cabo Verde\n",
      "Cayman Islands\n",
      "China, Hong Kong Special Administrative Region\n",
      "China, Macao Special Administrative Region\n",
      "Comoros\n",
      "Cook Islands\n",
      "Curaçao\n",
      "Dominica\n",
      "Eswatini\n",
      "French Polynesia\n",
      "Grenada\n",
      "Guadeloupe\n",
      "Isle of Man\n",
      "Kiribati\n",
      "Liechtenstein\n",
      "Maldives\n",
      "Malta\n",
      "Marshall Islands\n",
      "Martinique\n",
      "Mauritius\n",
      "Mayotte\n",
      "Micronesia (Federated States of)\n",
      "Monaco\n",
      "Montserrat\n",
      "Nauru\n",
      "Niue\n",
      "Palau\n",
      "Saint Helena\n",
      "Saint Kitts and Nevis\n",
      "Saint Lucia\n",
      "Saint Vincent and the Grenadines\n",
      "Samoa\n",
      "San Marino\n",
      "Sao Tome and Principe\n",
      "Seychelles\n",
      "Singapore\n",
      "Sint Maarten (Dutch part)\n",
      "Tonga\n",
      "Turks and Caicos Islands\n",
      "Tuvalu\n",
      "United States Virgin Islands\n"
     ]
    }
   ],
   "source": [
    "df_countries = df['country'].unique().tolist()\n",
    "map_countries = [k[\"properties\"][\"name\"] for k in features]\n",
    "\n",
    "print('### Countries in map but not in dataset:')\n",
    "for c in map_countries:\n",
    "    if c not in df_countries:\n",
    "        print(c)\n",
    "print('')\n",
    "\n",
    "print('### Countries in dataset but not in map:')\n",
    "for c in df_countries:\n",
    "    if c not in map_countries:\n",
    "        print(c)"
   ]
  },
  {
   "attachments": {},
   "cell_type": "markdown",
   "metadata": {},
   "source": [
    "#### Save file to json format and csv\n"
   ]
  },
  {
   "cell_type": "code",
   "execution_count": 7,
   "metadata": {},
   "outputs": [],
   "source": [
    "with open('mapdata.json', 'w') as outfile:\n",
    "    json.dump(gj, outfile)"
   ]
  },
  {
   "cell_type": "code",
   "execution_count": null,
   "metadata": {},
   "outputs": [],
   "source": []
  }
 ],
 "metadata": {
  "kernelspec": {
   "display_name": "Python 3",
   "language": "python",
   "name": "python3"
  },
  "language_info": {
   "codemirror_mode": {
    "name": "ipython",
    "version": 3
   },
   "file_extension": ".py",
   "mimetype": "text/x-python",
   "name": "python",
   "nbconvert_exporter": "python",
   "pygments_lexer": "ipython3",
   "version": "3.8.5"
  }
 },
 "nbformat": 4,
 "nbformat_minor": 4
}
