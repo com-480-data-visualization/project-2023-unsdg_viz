{
 "cells": [
  {
   "cell_type": "code",
   "execution_count": 1,
   "metadata": {},
   "outputs": [],
   "source": [
    "import pandas as pd\n",
    "import numpy as np\n",
    "import matplotlib.pyplot as plt\n",
    "import geojson\n",
    "import json"
   ]
  },
  {
   "attachments": {},
   "cell_type": "markdown",
   "metadata": {},
   "source": [
    "#### Load countries data and keep features with least number of NaNs"
   ]
  },
  {
   "cell_type": "code",
   "execution_count": 107,
   "metadata": {},
   "outputs": [],
   "source": [
    "country_data = pd.read_pickle(\"../../milestone1/data_viz.pkl\")"
   ]
  },
  {
   "cell_type": "code",
   "execution_count": 108,
   "metadata": {},
   "outputs": [],
   "source": [
    "country_data_flt = country_data[['Year', 'country', 'Revenue', 'FDI','Growth_rate', 'CO2_emission', 'GDP','Mortality_rate','Air pollution','Literacy rate','Renewable_energy']]\n",
    "country_data_flt = country_data_flt.rename(columns={\n",
    "    'Year': 'year',\n",
    "    'Revenue': 'revenue',\n",
    "    'FDI': 'fdi',\n",
    "    'Growth_rate': 'growth_rate',\n",
    "    'CO2_emission': 'co2_emissions',\n",
    "    'GDP': 'gdp',\n",
    "    'Mortality_rate':'mortality_rate',\n",
    "    'Air pollution':'air_pollution',\n",
    "    'Literacy rate':'literacy_rate',\n",
    "    'Renewable_energy':'renewable'\n",
    "})\n",
    "country_data_flt = country_data_flt[country_data_flt['year'] >= 1950]"
   ]
  },
  {
   "attachments": {},
   "cell_type": "markdown",
   "metadata": {},
   "source": [
    "#### Load geoJSON map data"
   ]
  },
  {
   "cell_type": "code",
   "execution_count": 109,
   "metadata": {},
   "outputs": [],
   "source": [
    "# load world map data\n",
    "with open('custom.geo.json') as geo:\n",
    "    gj = geojson.load(geo)\n",
    "features = gj['features']\n",
    "\n",
    "# keep only useful properties\n",
    "keep_properties = ['name','name_long','iso_a3','continent','label_x','label_y']\n",
    "\n",
    "for k in reversed(features):\n",
    "    properties = {}\n",
    "    for label in keep_properties: \n",
    "        properties[label] = k[\"properties\"][label]\n",
    "    k[\"properties\"] = properties\n",
    "    "
   ]
  },
  {
   "cell_type": "code",
   "execution_count": 110,
   "metadata": {},
   "outputs": [],
   "source": [
    "with open('empty_map.geo.json', 'w') as outfile:\n",
    "    json.dump(gj, outfile)"
   ]
  },
  {
   "attachments": {},
   "cell_type": "markdown",
   "metadata": {},
   "source": [
    "#### Change countries name to match geoJSON data"
   ]
  },
  {
   "cell_type": "code",
   "execution_count": 111,
   "metadata": {},
   "outputs": [],
   "source": [
    "oldNames = [\n",
    "    'Bolivia (Plurinational State of)',\n",
    "    'Bosnia and Herzegovina',\n",
    "    'Brunei Darussalam',\n",
    "    'Central African Republic',\n",
    "    'Democratic Republic of the Congo',\n",
    "    'Dominican Republic',\n",
    "    'Equatorial Guinea',\n",
    "    'Iran (Islamic Republic of)',\n",
    "    'Lao People\\'s Democratic Republic',\n",
    "    'Democratic People\\'s Republic of Korea',\n",
    "    'Republic of Moldova',\n",
    "    'Russian Federation',\n",
    "    'Solomon Islands',\n",
    "    'South Sudan',\n",
    "    'Republic of Korea',\n",
    "    'State of Palestine',\n",
    "    'Syrian Arab Republic',\n",
    "    'Türkiye',\n",
    "    'United Kingdom of Great Britain and Northern Ireland',\n",
    "    'United Republic of Tanzania',\n",
    "    'Venezuela (Bolivarian Republic of)',\n",
    "    'Viet Nam',\n",
    "    'ESwatini',\n",
    "    'United States',\n",
    "    'Cote d\\'Ivoire'\n",
    "]\n",
    "newNames = [\n",
    "    'Bolivia',\n",
    "    'Bosnia and Herz.',\n",
    "    'Brunei',\n",
    "    'Central African Rep.',\n",
    "    'Dem. Rep. Congo',\n",
    "    'Dominican Rep.',\n",
    "    'Eq. Guinea',\n",
    "    'Iran',\n",
    "    'Laos',\n",
    "    'North Korea',\n",
    "    'Moldova',\n",
    "    'Russia',\n",
    "    'Solomon Is.',\n",
    "    'S. Sudan',\n",
    "    'South Korea',\n",
    "    'Palestine',\n",
    "    'Syria',\n",
    "    'Turkey',\n",
    "    'United Kingdom',\n",
    "    'Tanzania',\n",
    "    'Venezuela',\n",
    "    'Vietnam',\n",
    "    'eSwatini',\n",
    "    'United States of America',\n",
    "    'Côte d\\'Ivoire'\n",
    "]\n",
    "\n",
    "df = country_data_flt.replace(oldNames,newNames)"
   ]
  },
  {
   "attachments": {},
   "cell_type": "markdown",
   "metadata": {},
   "source": [
    "#### Join data"
   ]
  },
  {
   "cell_type": "code",
   "execution_count": 112,
   "metadata": {},
   "outputs": [
    {
     "name": "stdout",
     "output_type": "stream",
     "text": [
      "eSwatini\n",
      "Dem. Rep. Congo\n",
      "W. Sahara\n",
      "Somaliland\n",
      "N. Cyprus\n",
      "Timor-Leste\n",
      "Falkland Is.\n"
     ]
    }
   ],
   "source": [
    "feats = [\n",
    "    'revenue',\n",
    "    'fdi',\n",
    "    'growth_rate',\n",
    "    'co2_emissions',\n",
    "    'gdp',\n",
    "    'mortality_rate',\n",
    "    'air_pollution',\n",
    "    'literacy_rate',\n",
    "    'renewable'\n",
    "]\n",
    "\n",
    "for f in feats:\n",
    "    for k in reversed(features):\n",
    "\n",
    "        country_name = k[\"properties\"][\"name\"]\n",
    "        country_data = df.loc[df['country'] == country_name]\n",
    "\n",
    "        if country_data.empty and f == 'co2_emissions':\n",
    "            print(country_name)\n",
    "        else:\n",
    "            # create dict {year: value}\n",
    "            val = dict(zip(country_data[\"year\"], country_data[f]))\n",
    "            k[\"properties\"][f] = val"
   ]
  },
  {
   "cell_type": "code",
   "execution_count": 113,
   "metadata": {},
   "outputs": [
    {
     "name": "stdout",
     "output_type": "stream",
     "text": [
      "### Countries in map but not in dataset:\n",
      "Falkland Is.\n",
      "Timor-Leste\n",
      "N. Cyprus\n",
      "Somaliland\n",
      "W. Sahara\n",
      "Dem. Rep. Congo\n",
      "eSwatini\n",
      "\n",
      "### Countries in dataset but not in map:\n",
      "Africa\n",
      "Africa (GCP)\n",
      "Aland Islands\n",
      "American Samoa\n",
      "Andorra\n",
      "Anguilla\n",
      "Antarctica\n",
      "Antigua and Barbuda\n",
      "Aruba\n",
      "Asia\n",
      "Asia (GCP)\n",
      "Asia (excl. China and India)\n",
      "Bahrain\n",
      "Barbados\n",
      "Bermuda\n",
      "Bonaire Sint Eustatius and Saba\n",
      "British Virgin Islands\n",
      "Cape Verde\n",
      "Central America (GCP)\n",
      "Christmas Island\n",
      "Comoros\n",
      "Cook Islands\n",
      "Curacao\n",
      "Democratic Republic of Congo\n",
      "Dominica\n",
      "Eswatini\n",
      "Europe\n",
      "Europe (GCP)\n",
      "Europe (excl. EU-27)\n",
      "Europe (excl. EU-28)\n",
      "European Union (27)\n",
      "European Union (27) (GCP)\n",
      "European Union (28)\n",
      "Faeroe Islands\n",
      "Falkland Islands\n",
      "French Equatorial Africa (GCP)\n",
      "French Guiana\n",
      "French Polynesia\n",
      "French West Africa (GCP)\n",
      "Grenada\n",
      "Guadeloupe\n",
      "Guernsey\n",
      "High-income countries\n",
      "Hong Kong\n",
      "International transport\n",
      "Isle of Man\n",
      "Jersey\n",
      "Kiribati\n",
      "Kuwaiti Oil Fires (GCP)\n",
      "Leeward Islands (GCP)\n",
      "Liechtenstein\n",
      "Low-income countries\n",
      "Lower-middle-income countries\n",
      "Macao\n",
      "Maldives\n",
      "Malta\n",
      "Marshall Islands\n",
      "Martinique\n",
      "Mauritius\n",
      "Mayotte\n",
      "Micronesia (country)\n",
      "Middle East (GCP)\n",
      "Montserrat\n",
      "Nauru\n",
      "Netherlands Antilles\n",
      "Niue\n",
      "Non-OECD (GCP)\n",
      "North America\n",
      "North America (GCP)\n",
      "North America (excl. USA)\n",
      "OECD (GCP)\n",
      "Oceania\n",
      "Oceania (GCP)\n",
      "Palau\n",
      "Panama Canal Zone (GCP)\n",
      "Reunion\n",
      "Ryukyu Islands (GCP)\n",
      "Saint Helena\n",
      "Saint Kitts and Nevis\n",
      "Saint Lucia\n",
      "Saint Martin (French part)\n",
      "Saint Pierre and Miquelon\n",
      "Saint Vincent and the Grenadines\n",
      "Samoa\n",
      "Sao Tome and Principe\n",
      "Seychelles\n",
      "Singapore\n",
      "Sint Maarten (Dutch part)\n",
      "South America\n",
      "South America (GCP)\n",
      "St. Kitts-Nevis-Anguilla (GCP)\n",
      "Svalbard and Jan Mayen\n",
      "Timor\n",
      "Tonga\n",
      "Turks and Caicos Islands\n",
      "Tuvalu\n",
      "United States Virgin Islands\n",
      "Upper-middle-income countries\n",
      "Wallis and Futuna\n",
      "Western Sahara\n",
      "World\n"
     ]
    }
   ],
   "source": [
    "df_countries = df['country'].unique().tolist()\n",
    "map_countries = [k[\"properties\"][\"name\"] for k in features]\n",
    "\n",
    "print('### Countries in map but not in dataset:')\n",
    "for c in map_countries:\n",
    "    if c not in df_countries:\n",
    "        print(c)\n",
    "print('')\n",
    "\n",
    "print('### Countries in dataset but not in map:')\n",
    "for c in df_countries:\n",
    "    if c not in map_countries:\n",
    "        print(c)"
   ]
  },
  {
   "attachments": {},
   "cell_type": "markdown",
   "metadata": {},
   "source": [
    "#### Save file to json format and csv\n"
   ]
  },
  {
   "cell_type": "code",
   "execution_count": 114,
   "metadata": {},
   "outputs": [],
   "source": [
    "with open('mapdata.json', 'w') as outfile:\n",
    "    json.dump(gj, outfile)\n",
    "\n",
    "### NOTE remember to change NaN to \"\" ###"
   ]
  },
  {
   "cell_type": "code",
   "execution_count": 115,
   "metadata": {},
   "outputs": [],
   "source": [
    "df.to_csv('worldmap_csv.csv')"
   ]
  },
  {
   "cell_type": "code",
   "execution_count": 116,
   "metadata": {},
   "outputs": [],
   "source": [
    "maxs = df.groupby('country').max()[feats]\n",
    "mins = df.groupby('country').min()[feats]"
   ]
  },
  {
   "cell_type": "code",
   "execution_count": 117,
   "metadata": {},
   "outputs": [],
   "source": [
    "maxs.to_csv('countries_max.csv')\n",
    "mins.to_csv('countries_min.csv')"
   ]
  }
 ],
 "metadata": {
  "kernelspec": {
   "display_name": "Python 3",
   "language": "python",
   "name": "python3"
  },
  "language_info": {
   "codemirror_mode": {
    "name": "ipython",
    "version": 3
   },
   "file_extension": ".py",
   "mimetype": "text/x-python",
   "name": "python",
   "nbconvert_exporter": "python",
   "pygments_lexer": "ipython3",
   "version": "3.8.16"
  }
 },
 "nbformat": 4,
 "nbformat_minor": 4
}
