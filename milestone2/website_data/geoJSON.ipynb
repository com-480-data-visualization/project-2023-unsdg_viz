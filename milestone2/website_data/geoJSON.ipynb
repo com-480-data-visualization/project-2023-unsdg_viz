{
 "cells": [
  {
   "attachments": {},
   "cell_type": "markdown",
   "metadata": {},
   "source": [
    "Merge data from the geoJSON of the world map and data from the co2 emissions per capita "
   ]
  },
  {
   "cell_type": "code",
   "execution_count": 1,
   "metadata": {},
   "outputs": [],
   "source": [
    "import pandas as pd\n",
    "import numpy as np\n",
    "from pprint import pprint\n",
    "import geojson\n",
    "import json"
   ]
  },
  {
   "cell_type": "code",
   "execution_count": 2,
   "metadata": {},
   "outputs": [],
   "source": [
    "# load world map data\n",
    "with open('custom.geo.json') as geo:\n",
    "    gj = geojson.load(geo)\n",
    "features = gj['features']\n",
    "\n",
    "# keep only useful properties\n",
    "keep_properties = ['name','name_long','iso_a3','continent','label_x','label_y']\n",
    "\n",
    "for k in reversed(features):\n",
    "    properties = {}\n",
    "    for label in keep_properties:\n",
    "        properties[label] = k[\"properties\"][label]\n",
    "    k[\"properties\"] = properties"
   ]
  },
  {
   "cell_type": "code",
   "execution_count": 3,
   "metadata": {},
   "outputs": [],
   "source": [
    "# load dataframe with co2 emissions per capita\n",
    "df = pd.read_csv('../../data/co-emissions-per-capita.csv')\n",
    "# remove zeros\n",
    "df = df.replace(0.0, '')"
   ]
  },
  {
   "cell_type": "code",
   "execution_count": 6,
   "metadata": {},
   "outputs": [],
   "source": [
    "# rename countries to match geoJSON\n",
    "oldNames = [\n",
    "    'Czechia',\n",
    "    'Russia',\n",
    "    'Gambia',\n",
    "    'Eswatini',\n",
    "    'Cote d\\'Ivoire',\n",
    "    'Congo',\n",
    "    'Democratic Republic of Congo',\n",
    "    'Brunei',\n",
    "    'Timor',\n",
    "    'Laos',\n",
    "    'North Korea',\n",
    "    'South Korea',\n",
    "    'Falkland Islands',\n",
    "]\n",
    "newNames = [\n",
    "    'Czech Republic',\n",
    "    'Russian Federation',\n",
    "    'The Gambia',\n",
    "    'Kingdom of eSwatini',\n",
    "    'Côte d\\'Ivoire',\n",
    "    'Republic of the Congo',\n",
    "    'Democratic Republic of the Congo',\n",
    "    'Brunei Darussalam',\n",
    "    'Timor-Leste',\n",
    "    'Lao PDR',\n",
    "    'Dem. Rep. Korea',\n",
    "    'Republic of Korea',\n",
    "    'Falkland Islands / Malvinas',\n",
    "]\n",
    "\n",
    "df = df.replace(oldNames,newNames)"
   ]
  },
  {
   "cell_type": "code",
   "execution_count": 7,
   "metadata": {},
   "outputs": [
    {
     "name": "stdout",
     "output_type": "stream",
     "text": [
      "## unmatched countries:\n",
      "Western Sahara\n",
      "Somaliland\n",
      "Northern Cyprus\n",
      "Falkland Islands / Malvinas\n"
     ]
    }
   ],
   "source": [
    "# fill geomap data with emissions\n",
    "\n",
    "print('## unmatched countries:')\n",
    "\n",
    "for k in reversed(features):\n",
    "    country_name = k[\"properties\"][\"name_long\"]\n",
    "    country_data = df.loc[df['Entity'] == country_name]\n",
    "    if country_data.empty:\n",
    "        print(country_name)\n",
    "    else:\n",
    "        # create dict {year: emission}\n",
    "        emissions = dict(zip(country_data[\"Year\"], country_data[\"Annual CO₂ emissions (per capita)\"]))\n",
    "        k[\"properties\"][\"emitted_co2\"] = emissions\n"
   ]
  },
  {
   "cell_type": "code",
   "execution_count": 8,
   "metadata": {},
   "outputs": [],
   "source": [
    "with open('countries_emissions.json', 'w') as outfile:\n",
    "    json.dump(gj, outfile)"
   ]
  }
 ],
 "metadata": {
  "kernelspec": {
   "display_name": "Python 3",
   "language": "python",
   "name": "python3"
  },
  "language_info": {
   "codemirror_mode": {
    "name": "ipython",
    "version": 3
   },
   "file_extension": ".py",
   "mimetype": "text/x-python",
   "name": "python",
   "nbconvert_exporter": "python",
   "pygments_lexer": "ipython3",
   "version": "3.8.5"
  },
  "orig_nbformat": 4
 },
 "nbformat": 4,
 "nbformat_minor": 2
}
