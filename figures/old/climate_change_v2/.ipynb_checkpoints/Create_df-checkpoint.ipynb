{
 "cells": [
  {
   "cell_type": "code",
   "execution_count": 1,
   "id": "2e02572f-9dc2-4a8a-850f-023305ba2cf1",
   "metadata": {},
   "outputs": [],
   "source": [
    "import pandas as pd\n",
    "import numpy as np\n",
    "import matplotlib.pyplot as plt\n",
    "import os"
   ]
  },
  {
   "cell_type": "code",
   "execution_count": 15,
   "id": "9109e245-eda4-4112-b7fc-ec04e6e99724",
   "metadata": {},
   "outputs": [],
   "source": [
    "# get the absolute path of the current working directory\n",
    "cwd = os.path.abspath(os.getcwd())\n",
    "\n",
    "# go into the 'data' directory\n",
    "data_dir = os.path.join(cwd, 'data')\n",
    "datafolder = data_dir + '\\\\' #'./data/' \n"
   ]
  },
  {
   "cell_type": "code",
   "execution_count": 17,
   "id": "64a11311-d886-445e-be17-6416ef66f4a6",
   "metadata": {},
   "outputs": [],
   "source": [
    "co2 = pd.read_csv(datafolder + 'annual-co2-emissions.csv')\n",
    "temp = pd.read_csv(datafolder + \"temp.csv\")"
   ]
  },
  {
   "cell_type": "code",
   "execution_count": null,
   "id": "3a3f334d-5bbf-486f-acbf-bc8e0efb649e",
   "metadata": {},
   "outputs": [],
   "source": [
    "co2 = co2[co2.Entity == \"World\"]"
   ]
  },
  {
   "cell_type": "code",
   "execution_count": 33,
   "id": "561b4fd6-f1cb-43ed-b856-a4bd5f740f55",
   "metadata": {},
   "outputs": [
    {
     "data": {
      "text/html": [
       "<div>\n",
       "<style scoped>\n",
       "    .dataframe tbody tr th:only-of-type {\n",
       "        vertical-align: middle;\n",
       "    }\n",
       "\n",
       "    .dataframe tbody tr th {\n",
       "        vertical-align: top;\n",
       "    }\n",
       "\n",
       "    .dataframe thead th {\n",
       "        text-align: right;\n",
       "    }\n",
       "</style>\n",
       "<table border=\"1\" class=\"dataframe\">\n",
       "  <thead>\n",
       "    <tr style=\"text-align: right;\">\n",
       "      <th></th>\n",
       "      <th>Entity</th>\n",
       "      <th>Year</th>\n",
       "      <th>Average</th>\n",
       "      <th>Upper</th>\n",
       "      <th>Lower</th>\n",
       "    </tr>\n",
       "  </thead>\n",
       "  <tbody>\n",
       "    <tr>\n",
       "      <th>0</th>\n",
       "      <td>Global</td>\n",
       "      <td>1850</td>\n",
       "      <td>-0.417659</td>\n",
       "      <td>-0.246115</td>\n",
       "      <td>-0.589203</td>\n",
       "    </tr>\n",
       "    <tr>\n",
       "      <th>1</th>\n",
       "      <td>Global</td>\n",
       "      <td>1851</td>\n",
       "      <td>-0.233350</td>\n",
       "      <td>-0.054832</td>\n",
       "      <td>-0.411868</td>\n",
       "    </tr>\n",
       "    <tr>\n",
       "      <th>2</th>\n",
       "      <td>Global</td>\n",
       "      <td>1852</td>\n",
       "      <td>-0.229399</td>\n",
       "      <td>-0.049416</td>\n",
       "      <td>-0.409382</td>\n",
       "    </tr>\n",
       "    <tr>\n",
       "      <th>3</th>\n",
       "      <td>Global</td>\n",
       "      <td>1853</td>\n",
       "      <td>-0.270354</td>\n",
       "      <td>-0.110700</td>\n",
       "      <td>-0.430009</td>\n",
       "    </tr>\n",
       "    <tr>\n",
       "      <th>4</th>\n",
       "      <td>Global</td>\n",
       "      <td>1854</td>\n",
       "      <td>-0.291630</td>\n",
       "      <td>-0.150436</td>\n",
       "      <td>-0.432824</td>\n",
       "    </tr>\n",
       "    <tr>\n",
       "      <th>...</th>\n",
       "      <td>...</td>\n",
       "      <td>...</td>\n",
       "      <td>...</td>\n",
       "      <td>...</td>\n",
       "      <td>...</td>\n",
       "    </tr>\n",
       "    <tr>\n",
       "      <th>514</th>\n",
       "      <td>Southern Hemisphere</td>\n",
       "      <td>2018</td>\n",
       "      <td>0.565646</td>\n",
       "      <td>0.614723</td>\n",
       "      <td>0.516570</td>\n",
       "    </tr>\n",
       "    <tr>\n",
       "      <th>515</th>\n",
       "      <td>Southern Hemisphere</td>\n",
       "      <td>2019</td>\n",
       "      <td>0.638402</td>\n",
       "      <td>0.691337</td>\n",
       "      <td>0.585467</td>\n",
       "    </tr>\n",
       "    <tr>\n",
       "      <th>516</th>\n",
       "      <td>Southern Hemisphere</td>\n",
       "      <td>2020</td>\n",
       "      <td>0.569861</td>\n",
       "      <td>0.622008</td>\n",
       "      <td>0.517714</td>\n",
       "    </tr>\n",
       "    <tr>\n",
       "      <th>517</th>\n",
       "      <td>Southern Hemisphere</td>\n",
       "      <td>2021</td>\n",
       "      <td>0.445762</td>\n",
       "      <td>0.499180</td>\n",
       "      <td>0.392344</td>\n",
       "    </tr>\n",
       "    <tr>\n",
       "      <th>518</th>\n",
       "      <td>Southern Hemisphere</td>\n",
       "      <td>2022</td>\n",
       "      <td>0.503646</td>\n",
       "      <td>0.558073</td>\n",
       "      <td>0.449219</td>\n",
       "    </tr>\n",
       "  </tbody>\n",
       "</table>\n",
       "<p>519 rows × 5 columns</p>\n",
       "</div>"
      ],
      "text/plain": [
       "                  Entity  Year   Average     Upper     Lower\n",
       "0                 Global  1850 -0.417659 -0.246115 -0.589203\n",
       "1                 Global  1851 -0.233350 -0.054832 -0.411868\n",
       "2                 Global  1852 -0.229399 -0.049416 -0.409382\n",
       "3                 Global  1853 -0.270354 -0.110700 -0.430009\n",
       "4                 Global  1854 -0.291630 -0.150436 -0.432824\n",
       "..                   ...   ...       ...       ...       ...\n",
       "514  Southern Hemisphere  2018  0.565646  0.614723  0.516570\n",
       "515  Southern Hemisphere  2019  0.638402  0.691337  0.585467\n",
       "516  Southern Hemisphere  2020  0.569861  0.622008  0.517714\n",
       "517  Southern Hemisphere  2021  0.445762  0.499180  0.392344\n",
       "518  Southern Hemisphere  2022  0.503646  0.558073  0.449219\n",
       "\n",
       "[519 rows x 5 columns]"
      ]
     },
     "execution_count": 33,
     "metadata": {},
     "output_type": "execute_result"
    }
   ],
   "source": [
    "temp"
   ]
  },
  {
   "cell_type": "code",
   "execution_count": 37,
   "id": "ef7f32a1-56a3-403a-8825-77222d8b7e60",
   "metadata": {},
   "outputs": [],
   "source": [
    "data_viz = temp.set_index('Year').join(co2.set_index('Year'), on = \"Year\", rsuffix='_co2', how='left').reset_index()[[\"Entity\", \"Year\", \"Average\", \"Upper\", \"Lower\", \"Annual CO₂ emissions\"]]"
   ]
  },
  {
   "cell_type": "code",
   "execution_count": 39,
   "id": "b7a23460-ff94-4e82-a164-ceed0603aa50",
   "metadata": {},
   "outputs": [],
   "source": [
    "data_viz.to_csv('temp_viz.csv', index=False)"
   ]
  },
  {
   "cell_type": "code",
   "execution_count": null,
   "id": "367110fa-df85-43e2-ae8f-47daa31dfa3f",
   "metadata": {},
   "outputs": [],
   "source": []
  }
 ],
 "metadata": {
  "kernelspec": {
   "display_name": "Python 3 (ipykernel)",
   "language": "python",
   "name": "python3"
  },
  "language_info": {
   "codemirror_mode": {
    "name": "ipython",
    "version": 3
   },
   "file_extension": ".py",
   "mimetype": "text/x-python",
   "name": "python",
   "nbconvert_exporter": "python",
   "pygments_lexer": "ipython3",
   "version": "3.9.12"
  }
 },
 "nbformat": 4,
 "nbformat_minor": 5
}
