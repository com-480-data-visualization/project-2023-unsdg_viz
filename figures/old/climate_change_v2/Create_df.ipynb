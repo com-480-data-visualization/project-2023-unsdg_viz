{
 "cells": [
  {
   "cell_type": "code",
   "execution_count": 1,
   "id": "2e02572f-9dc2-4a8a-850f-023305ba2cf1",
   "metadata": {},
   "outputs": [],
   "source": [
    "import pandas as pd\n",
    "import numpy as np\n",
    "import matplotlib.pyplot as plt\n",
    "import os"
   ]
  },
  {
   "cell_type": "code",
   "execution_count": 15,
   "id": "9109e245-eda4-4112-b7fc-ec04e6e99724",
   "metadata": {},
   "outputs": [],
   "source": [
    "# get the absolute path of the current working directory\n",
    "cwd = os.path.abspath(os.getcwd())\n",
    "\n",
    "# go into the 'data' directory\n",
    "data_dir = os.path.join(cwd, 'data')\n",
    "datafolder = data_dir + '\\\\' #'./data/' \n"
   ]
  },
  {
   "cell_type": "code",
   "execution_count": 41,
   "id": "64a11311-d886-445e-be17-6416ef66f4a6",
   "metadata": {},
   "outputs": [],
   "source": [
    "co2 = pd.read_csv(datafolder + 'annual-co2-emissions.csv')\n",
    "temp = pd.read_csv(datafolder + \"temp.csv\")"
   ]
  },
  {
   "cell_type": "code",
   "execution_count": 45,
   "id": "3a3f334d-5bbf-486f-acbf-bc8e0efb649e",
   "metadata": {},
   "outputs": [],
   "source": [
    "co2 = co2[co2.Entity == \"World\"]\n",
    "co2 = co2.rename(columns={'Annual CO₂ emissions': 'CO2'})"
   ]
  },
  {
   "cell_type": "code",
   "execution_count": 46,
   "id": "ef7f32a1-56a3-403a-8825-77222d8b7e60",
   "metadata": {},
   "outputs": [],
   "source": [
    "data_viz = temp.set_index('Year').join(co2.set_index('Year'), on = \"Year\", rsuffix='_co2', how='left').reset_index()[[\"Entity\", \"Year\", \"Average\", \"Upper\", \"Lower\", \"CO2\"]]"
   ]
  },
  {
   "cell_type": "code",
   "execution_count": 48,
   "id": "b7a23460-ff94-4e82-a164-ceed0603aa50",
   "metadata": {},
   "outputs": [],
   "source": [
    "data_viz.to_csv('temp_viz.csv', index=False)"
   ]
  },
  {
   "cell_type": "code",
   "execution_count": null,
   "id": "1cfa00d1-df51-484d-afbc-daeee296a988",
   "metadata": {},
   "outputs": [],
   "source": []
  }
 ],
 "metadata": {
  "kernelspec": {
   "display_name": "Python 3 (ipykernel)",
   "language": "python",
   "name": "python3"
  },
  "language_info": {
   "codemirror_mode": {
    "name": "ipython",
    "version": 3
   },
   "file_extension": ".py",
   "mimetype": "text/x-python",
   "name": "python",
   "nbconvert_exporter": "python",
   "pygments_lexer": "ipython3",
   "version": "3.9.12"
  }
 },
 "nbformat": 4,
 "nbformat_minor": 5
}
